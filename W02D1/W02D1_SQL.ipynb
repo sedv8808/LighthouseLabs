{
 "cells": [
  {
   "cell_type": "markdown",
   "metadata": {
    "slideshow": {
     "slide_type": "slide"
    }
   },
   "source": [
    "## Lighthouse Labs\n",
    "### W02D1 SQL\n",
    "\n",
    "Instructor: Socorro Dominguez  \n",
    "March 08, 2021"
   ]
  },
  {
   "cell_type": "markdown",
   "metadata": {
    "slideshow": {
     "slide_type": "slide"
    }
   },
   "source": [
    "## Agenda\n",
    "1. Context and Landscape (40 mins)\n",
    "2. Break (10 mins)\n",
    "3. Writing SELECT statements (60 mins)\n",
    "    * Filtering, ordering, limiting, etc.\n",
    "    * Joining tables\n",
    "    * Grouping records\n",
    "    * Aggregate functions"
   ]
  },
  {
   "cell_type": "markdown",
   "metadata": {
    "slideshow": {
     "slide_type": "slide"
    }
   },
   "source": [
    "## Why databases?\n",
    "\n",
    "* Organized way to store data and relate data to each other.\n",
    "* Enforces strict structure and relationships (forces you to keep data clean)\n",
    "    - Makes it easier to train Machine Learning algorithms\n",
    "* Enables data governance (e.g., availability, usability, integrity and security of data)\n",
    "* Efficient retrieval of structured data\n",
    "* Can store lots of data\n",
    "\n",
    "_\"A company cannot be managed with Excel spreadsheets\"_"
   ]
  },
  {
   "cell_type": "markdown",
   "metadata": {
    "slideshow": {
     "slide_type": "slide"
    }
   },
   "source": [
    "## Why SQL?\n",
    "\n",
    "* A lot of data is still stored in SQL databases\n",
    "* Structured Query Language (SQL) still the most proficient tool to investigate, filter, slice and dice your data\n",
    "\n",
    "## NoSQL databases\n",
    "* There exists NoSQL databases (e.g., MongoDB)\n",
    "* Want to learn more? https://www.mongodb.com/nosql-explained"
   ]
  },
  {
   "cell_type": "markdown",
   "metadata": {
    "slideshow": {
     "slide_type": "slide"
    }
   },
   "source": [
    "### Why are we learning SQL?\n",
    "\n",
    "- Public dataset format has less common use-case.\n",
    "- Internal database querying\n",
    "    - May contain information you don’t want\n",
    "    - May want to train your model on combinations/aggregations of fields from various tables\n",
    "- Data exploration through simple operations on different groups/subsets\n",
    "- Better understand transformations on data\n",
    "- Mentioned in almost every data science job posting\n",
    "    - Data science jobs ask for a ton of skills, good to have exposure to all for interview purposes, even if they won’t all realistically be necessary"
   ]
  },
  {
   "cell_type": "markdown",
   "metadata": {
    "slideshow": {
     "slide_type": "slide"
    }
   },
   "source": [
    "### Challenges when writing SQL\n",
    "\n",
    "- Declarative (SQL) vs. imperative (Python). Basically, no control flow\n",
    "- Long, nested queries with many variable names\n",
    "    - Vs. imperative programming where most readable programs break logic up into multiple steps\n",
    "- Many things happening concurrently in a single statement, order not explicit\n",
    "    - Vs. imperative programming where code executes line-by-line\n",
    "- Debugging is more difficult due to the above\n",
    "    - Can help to break a complex query down into steps and test those out first. Incremental approach to writing the query\n",
    "    \n",
    "    \n",
    "To review the fundamentals: https://www.w3schools.com/sql/"
   ]
  },
  {
   "cell_type": "markdown",
   "metadata": {
    "slideshow": {
     "slide_type": "slide"
    }
   },
   "source": [
    "### Database schemas\n",
    "\n",
    "- How do the different tables relate to each other?\n",
    "- Arguably most difficult part of relational databases is designing the schema\n",
    "    - Less of a concern for data scientists — not our job!\n",
    "- For our purposes, useful to understand table structure of a database to know how to write our queries (e.g. what tables to join)\n",
    "- Common design principles\n",
    "    - Star schema\n",
    "    - Snowflake shema\n"
   ]
  },
  {
   "cell_type": "markdown",
   "metadata": {
    "slideshow": {
     "slide_type": "skip"
    }
   },
   "source": [
    "**Resources:**\n",
    "* https://www.guru99.com/star-snowflake-data-warehousing.html\n",
    "* https://en.wikipedia.org/wiki/Snowflake_schema\n",
    "* https://en.wikipedia.org/wiki/Star_schema"
   ]
  },
  {
   "cell_type": "markdown",
   "metadata": {
    "slideshow": {
     "slide_type": "slide"
    }
   },
   "source": [
    "### Star Schema\n",
    "\n",
    "<img src=\"star-schema.png\" width=300>\n",
    "\n",
    "* Every dimension represented by only one dimension table\n",
    "* Dimension table contains set of attributes\n",
    "* Dimension tables are joined to the fact table using a foreign key\n",
    "* Dimension tables **are not** joined to each other\n",
    "* Fact table contains key and measure"
   ]
  },
  {
   "cell_type": "markdown",
   "metadata": {
    "slideshow": {
     "slide_type": "slide"
    }
   },
   "source": [
    "### Snowflake Schema\n",
    "\n",
    "<img src=\"snowflake-schema.png\" width=700>\n",
    "\n",
    "* Extension of the star schema by adding extra dimensions\n",
    "* Dimension tables are \"normalized\", splitting data into additional tables\n",
    "* What does it mean to [normalize data](https://docs.microsoft.com/en-us/office/troubleshoot/access/database-normalization-description#:~:text=Normalization%20is%20the%20process%20of,eliminating%20redundancy%20and%20inconsistent%20dependency.)?"
   ]
  },
  {
   "cell_type": "markdown",
   "metadata": {
    "slideshow": {
     "slide_type": "slide"
    }
   },
   "source": [
    "## Schema comparison\n",
    "\n",
    "**Star schema:**\n",
    "* Easy to understand\n",
    "* Dimension tables are not normalized - country ID does not have country lookup table\n",
    "* Widely supported by BI tools\n",
    "\n",
    "**Snowflake schema:**\n",
    "* Easy to implement and \"grow\"\n",
    "* Lower query performance with multiple tables\n",
    "* More difficult to maintain with more lookup tables\n"
   ]
  },
  {
   "cell_type": "markdown",
   "metadata": {
    "slideshow": {
     "slide_type": "slide"
    }
   },
   "source": [
    "## RDBMS Landscape\n",
    "\n",
    "\n",
    "<img src=\"rdbms.png\" width=400>\n",
    "\n",
    "* Relational Database Management System\n",
    "* Software system that enables users to define, create, maintain and control access to the database\n",
    "* Many, many, many vendors"
   ]
  },
  {
   "cell_type": "markdown",
   "metadata": {
    "slideshow": {
     "slide_type": "slide"
    }
   },
   "source": [
    "### RDBMS Vendors\n",
    "\n",
    "* **Closed source** (i.e., you have to pay)\n",
    "    * Vendors: Oracle, SQL Server (Microsoft), IBM DB2, Microsoft Access - local small databases\n",
    "    * Could come with integrations and services that make things easier  \n",
    "    \n",
    "<br>\n",
    "\n",
    "* **Open source** (i.e., free)\n",
    "    * MySQL, PostgreSQL, SQLite, MariaDB\n",
    "    * Good developer community makes these great options\n",
    "    * [This website](https://www.digitalocean.com/community/tutorials/sqlite-vs-mysql-vs-postgresql-a-comparison-of-relational-database-management-systems#:~:text=SQLite%20is%20a%20self%2Dcontained,even%20in%20low%2Dmemory%20environments.) offers a good comparison of open source systems options."
   ]
  },
  {
   "cell_type": "markdown",
   "metadata": {
    "slideshow": {
     "slide_type": "slide"
    }
   },
   "source": [
    "## Why SQLite?\n",
    "\n",
    "* Not directly comparable to client/server SQL database engines such as MySQL, Oracle, PostgreSQL, or SQL Server\n",
    "* Used as on-disk file format for desktop applications\n",
    "* Great to learn on to get a hang of SQL\n",
    "\n",
    "For more information: https://www.sqlite.org/whentouse.html"
   ]
  },
  {
   "cell_type": "markdown",
   "metadata": {
    "slideshow": {
     "slide_type": "slide"
    }
   },
   "source": [
    "## Why PostGres? \n",
    "\n",
    "* Created by scientists from the University of California at Berkeley\n",
    "* Open source nature makes it easy to upgrade or extend\n",
    "* High compliance to the SQL standard\n",
    "* Offers its users a huge (and growing) number of functions allowing programmers to create new applications, better protect data integrity, and developers build resilient and secure environments\n",
    "* Can easily run it on Windows, Mac OS X, and almost all Linux and Unix distributions\n",
    "* MySQL would be a good choice too\n",
    "* We use will use `psql`\n"
   ]
  },
  {
   "cell_type": "markdown",
   "metadata": {
    "slideshow": {
     "slide_type": "slide"
    }
   },
   "source": [
    "## Make sure everyone is set up before break...\n",
    "\n",
    "1. Install PostGreSQL: https://www.datacamp.com/community/tutorials/installing-postgresql-windows-macosx\n",
    "* From your terminal: `pip install psycopg2`\n",
    "* Open a jupyter notebook and run `import psycopg2`to make sure it works \n",
    "\n",
    "To get a database going: \n",
    "1. Open pgsql shell\n",
    "* Log in (should be all \"enter\" if you left it at default)\n",
    "* Set a password (REMEMBER THIS!)\n",
    "* `\\l` to see what databases already exist\n",
    "* `CREATE DATABASE drinks;`\n",
    "* `\\l` to see that it was created"
   ]
  },
  {
   "cell_type": "markdown",
   "metadata": {
    "slideshow": {
     "slide_type": "slide"
    }
   },
   "source": [
    "To write to a database:\n",
    "\n",
    "(You will need the `drinks.sql` file in the same directory as this notebook)"
   ]
  },
  {
   "cell_type": "code",
   "execution_count": 3,
   "metadata": {},
   "outputs": [],
   "source": [
    "import psycopg2\n",
    "import config as cfg\n",
    "\n",
    "postgres_pwd = cfg.postgres['password'] # This is the password you entered when you set up PGSQL\n",
    "\n",
    "con = psycopg2.connect(database='drinks', user='postgres', password=postgres_pwd,\n",
    "                       host='127.0.0.1', port='5432')  # This should work if you left everything as default\n",
    "\n",
    "cur = con.cursor()\n",
    "\n",
    "#cur.execute(open('drinks.sql', 'r').read())  # Uncomment this the first time you run the db"
   ]
  },
  {
   "cell_type": "markdown",
   "metadata": {
    "slideshow": {
     "slide_type": "slide"
    }
   },
   "source": [
    "# Break\n",
    "\n",
    "- Take 10 minutes, come back at ...\n"
   ]
  },
  {
   "cell_type": "markdown",
   "metadata": {
    "slideshow": {
     "slide_type": "slide"
    }
   },
   "source": [
    "## Demo\n",
    "* Show you how to query data from a database\n",
    "* Statements that start with `SELECT`"
   ]
  },
  {
   "cell_type": "markdown",
   "metadata": {
    "slideshow": {
     "slide_type": "slide"
    }
   },
   "source": [
    "## Intro to the sample database we're using - Drinks\n",
    "\n",
    "Database schema:\n",
    "\n",
    "* has_on_menu(<em><ins>bar</ins></em>: string, <em><ins>drink_id</ins></em>: string, <em><ins>price</ins></em>: real)\n",
    "\n",
    "\n",
    "* orders(<em><ins>person</ins></em>: string, <em><ins>date</ins></em>: string, bar, <em><ins>drink_id</ins></em>: string, quantity: integer)\n",
    "\n",
    "\n",
    "* drink_info(<em><ins>drink_id</ins></em>: string, <em><ins>type</ins></em>: string)\n",
    "\n",
    "The `drink_info` relation specifies for each `drink_id` what type of drink it is, e.g., beer, wine, etc."
   ]
  },
  {
   "cell_type": "markdown",
   "metadata": {
    "slideshow": {
     "slide_type": "slide"
    }
   },
   "source": [
    "## Setting up the connection to our database"
   ]
  },
  {
   "cell_type": "code",
   "execution_count": 4,
   "metadata": {
    "slideshow": {
     "slide_type": "-"
    }
   },
   "outputs": [],
   "source": [
    "# make necessary imports and set up environmental variables\n",
    "import psycopg2\n",
    "import pandas as pd\n",
    "\n",
    "postgres_pwd = 'postgres'"
   ]
  },
  {
   "cell_type": "code",
   "execution_count": 5,
   "metadata": {},
   "outputs": [],
   "source": [
    "# connect to the database\n",
    "con = psycopg2.connect(database='drinks', user='postgres', password=postgres_pwd,\n",
    "                       host='127.0.0.1', port='5432')\n",
    "\n",
    "query = con.cursor()"
   ]
  },
  {
   "cell_type": "markdown",
   "metadata": {
    "slideshow": {
     "slide_type": "slide"
    }
   },
   "source": [
    "## Executing our first query\n",
    "\n",
    "Get the first 5 rows from orders"
   ]
  },
  {
   "cell_type": "code",
   "execution_count": 6,
   "metadata": {
    "slideshow": {
     "slide_type": "-"
    }
   },
   "outputs": [
    {
     "name": "stdout",
     "output_type": "stream",
     "text": [
      "('person 1', '2016-10-16', 'bar 9', 'drink 4', 1)\n",
      "('person 1', '2016-10-16', 'bar 9', 'drink 44', 1)\n",
      "('person 1', '2016-10-22', 'bar 19', 'drink 1', 4)\n",
      "('person 1', '2016-10-22', 'bar 19', 'drink 9', 1)\n",
      "('person 1', '2016-10-22', 'bar 19', 'drink 42', 2)\n"
     ]
    }
   ],
   "source": [
    "# execute a simple query\n",
    "query.execute(\n",
    "\"\"\"\n",
    "SELECT *\n",
    "FROM orders\n",
    "LIMIT 5;\n",
    "\"\"\")\n",
    "\n",
    "response = query.fetchall()\n",
    "\n",
    "for row in response:\n",
    "    print(row)"
   ]
  },
  {
   "cell_type": "markdown",
   "metadata": {
    "slideshow": {
     "slide_type": "slide"
    }
   },
   "source": [
    "An easier way to see the data..."
   ]
  },
  {
   "cell_type": "code",
   "execution_count": 7,
   "metadata": {
    "scrolled": true
   },
   "outputs": [
    {
     "data": {
      "text/html": [
       "<div>\n",
       "<style scoped>\n",
       "    .dataframe tbody tr th:only-of-type {\n",
       "        vertical-align: middle;\n",
       "    }\n",
       "\n",
       "    .dataframe tbody tr th {\n",
       "        vertical-align: top;\n",
       "    }\n",
       "\n",
       "    .dataframe thead th {\n",
       "        text-align: right;\n",
       "    }\n",
       "</style>\n",
       "<table border=\"1\" class=\"dataframe\">\n",
       "  <thead>\n",
       "    <tr style=\"text-align: right;\">\n",
       "      <th></th>\n",
       "      <th>0</th>\n",
       "      <th>1</th>\n",
       "      <th>2</th>\n",
       "      <th>3</th>\n",
       "      <th>4</th>\n",
       "    </tr>\n",
       "  </thead>\n",
       "  <tbody>\n",
       "    <tr>\n",
       "      <th>0</th>\n",
       "      <td>person 1</td>\n",
       "      <td>2016-10-16</td>\n",
       "      <td>bar 9</td>\n",
       "      <td>drink 4</td>\n",
       "      <td>1</td>\n",
       "    </tr>\n",
       "    <tr>\n",
       "      <th>1</th>\n",
       "      <td>person 1</td>\n",
       "      <td>2016-10-16</td>\n",
       "      <td>bar 9</td>\n",
       "      <td>drink 44</td>\n",
       "      <td>1</td>\n",
       "    </tr>\n",
       "    <tr>\n",
       "      <th>2</th>\n",
       "      <td>person 1</td>\n",
       "      <td>2016-10-22</td>\n",
       "      <td>bar 19</td>\n",
       "      <td>drink 1</td>\n",
       "      <td>4</td>\n",
       "    </tr>\n",
       "    <tr>\n",
       "      <th>3</th>\n",
       "      <td>person 1</td>\n",
       "      <td>2016-10-22</td>\n",
       "      <td>bar 19</td>\n",
       "      <td>drink 9</td>\n",
       "      <td>1</td>\n",
       "    </tr>\n",
       "    <tr>\n",
       "      <th>4</th>\n",
       "      <td>person 1</td>\n",
       "      <td>2016-10-22</td>\n",
       "      <td>bar 19</td>\n",
       "      <td>drink 42</td>\n",
       "      <td>2</td>\n",
       "    </tr>\n",
       "  </tbody>\n",
       "</table>\n",
       "</div>"
      ],
      "text/plain": [
       "          0           1       2         3  4\n",
       "0  person 1  2016-10-16   bar 9   drink 4  1\n",
       "1  person 1  2016-10-16   bar 9  drink 44  1\n",
       "2  person 1  2016-10-22  bar 19   drink 1  4\n",
       "3  person 1  2016-10-22  bar 19   drink 9  1\n",
       "4  person 1  2016-10-22  bar 19  drink 42  2"
      ]
     },
     "execution_count": 7,
     "metadata": {},
     "output_type": "execute_result"
    }
   ],
   "source": [
    "pd.DataFrame(response)"
   ]
  },
  {
   "cell_type": "markdown",
   "metadata": {
    "slideshow": {
     "slide_type": "slide"
    }
   },
   "source": [
    "## Quick recap for SQL\n",
    "\n",
    "The basic format is\n",
    "<img src='select-statement.png' width=200>\n",
    "\n",
    "What would the following tell us with our database?\n",
    "```\n",
    "SELECT *\n",
    "FROM orders\n",
    "WHERE bar='bar 9'\n",
    "```\n",
    "\n",
    "---\n",
    "Reminder - our database:\n",
    "\n",
    "<img src='our-db.png' width=400 align='left'>"
   ]
  },
  {
   "cell_type": "markdown",
   "metadata": {
    "slideshow": {
     "slide_type": "slide"
    }
   },
   "source": [
    "## Other commands\n",
    "\n",
    "Use a cheat sheet!\n",
    "<img src='sql-cheat-sheet.png' width=700>"
   ]
  },
  {
   "cell_type": "markdown",
   "metadata": {
    "slideshow": {
     "slide_type": "slide"
    }
   },
   "source": [
    "## More on joins\n",
    "\n",
    "- `(INNER) JOIN`: Returns records that have matching values in both tables\n",
    "- `LEFT (OUTER) JOIN`: Returns all records from the left table, and the matched records from the right table\n",
    "- `RIGHT (OUTER) JOIN`: Returns all records from the right table, and the matched records from the left table\n",
    "- `FULL (OUTER) JOIN`: Returns all records when there is a match in either left or right table\n",
    "\n",
    "<img src='joins.png'>"
   ]
  },
  {
   "cell_type": "markdown",
   "metadata": {
    "slideshow": {
     "slide_type": "slide"
    }
   },
   "source": [
    "## Let's work through some problems\n",
    "\n",
    "### Question 1:\n",
    "Get the bar name and average price of each bar\n",
    "\n",
    "What do you think? What table do we need? What calculation do we need?\n",
    "\n",
    "---\n",
    "Reminder - our database:\n",
    "\n",
    "<img src='our-db.png' width=400 align='left'>"
   ]
  },
  {
   "cell_type": "code",
   "execution_count": 8,
   "metadata": {},
   "outputs": [
    {
     "data": {
      "text/html": [
       "<div>\n",
       "<style scoped>\n",
       "    .dataframe tbody tr th:only-of-type {\n",
       "        vertical-align: middle;\n",
       "    }\n",
       "\n",
       "    .dataframe tbody tr th {\n",
       "        vertical-align: top;\n",
       "    }\n",
       "\n",
       "    .dataframe thead th {\n",
       "        text-align: right;\n",
       "    }\n",
       "</style>\n",
       "<table border=\"1\" class=\"dataframe\">\n",
       "  <thead>\n",
       "    <tr style=\"text-align: right;\">\n",
       "      <th></th>\n",
       "      <th>0</th>\n",
       "      <th>1</th>\n",
       "    </tr>\n",
       "  </thead>\n",
       "  <tbody>\n",
       "    <tr>\n",
       "      <th>0</th>\n",
       "      <td>bar 14</td>\n",
       "      <td>93.438857</td>\n",
       "    </tr>\n",
       "    <tr>\n",
       "      <th>1</th>\n",
       "      <td>bar 8</td>\n",
       "      <td>67.919044</td>\n",
       "    </tr>\n",
       "    <tr>\n",
       "      <th>2</th>\n",
       "      <td>bar 16</td>\n",
       "      <td>121.364365</td>\n",
       "    </tr>\n",
       "    <tr>\n",
       "      <th>3</th>\n",
       "      <td>bar 15</td>\n",
       "      <td>90.993793</td>\n",
       "    </tr>\n",
       "    <tr>\n",
       "      <th>4</th>\n",
       "      <td>bar 12</td>\n",
       "      <td>152.071032</td>\n",
       "    </tr>\n",
       "    <tr>\n",
       "      <th>5</th>\n",
       "      <td>bar 6</td>\n",
       "      <td>27.682568</td>\n",
       "    </tr>\n",
       "    <tr>\n",
       "      <th>6</th>\n",
       "      <td>bar 17</td>\n",
       "      <td>107.329703</td>\n",
       "    </tr>\n",
       "    <tr>\n",
       "      <th>7</th>\n",
       "      <td>bar 9</td>\n",
       "      <td>52.381706</td>\n",
       "    </tr>\n",
       "    <tr>\n",
       "      <th>8</th>\n",
       "      <td>bar 7</td>\n",
       "      <td>61.567487</td>\n",
       "    </tr>\n",
       "    <tr>\n",
       "      <th>9</th>\n",
       "      <td>bar 18</td>\n",
       "      <td>105.214779</td>\n",
       "    </tr>\n",
       "    <tr>\n",
       "      <th>10</th>\n",
       "      <td>bar 11</td>\n",
       "      <td>31.562558</td>\n",
       "    </tr>\n",
       "    <tr>\n",
       "      <th>11</th>\n",
       "      <td>bar 19</td>\n",
       "      <td>18.224434</td>\n",
       "    </tr>\n",
       "    <tr>\n",
       "      <th>12</th>\n",
       "      <td>bar 3</td>\n",
       "      <td>129.809513</td>\n",
       "    </tr>\n",
       "    <tr>\n",
       "      <th>13</th>\n",
       "      <td>bar 5</td>\n",
       "      <td>100.603858</td>\n",
       "    </tr>\n",
       "    <tr>\n",
       "      <th>14</th>\n",
       "      <td>bar 20</td>\n",
       "      <td>86.513158</td>\n",
       "    </tr>\n",
       "    <tr>\n",
       "      <th>15</th>\n",
       "      <td>bar 10</td>\n",
       "      <td>60.572635</td>\n",
       "    </tr>\n",
       "    <tr>\n",
       "      <th>16</th>\n",
       "      <td>bar 1</td>\n",
       "      <td>83.678519</td>\n",
       "    </tr>\n",
       "    <tr>\n",
       "      <th>17</th>\n",
       "      <td>bar 13</td>\n",
       "      <td>150.560439</td>\n",
       "    </tr>\n",
       "    <tr>\n",
       "      <th>18</th>\n",
       "      <td>bar 4</td>\n",
       "      <td>49.250977</td>\n",
       "    </tr>\n",
       "    <tr>\n",
       "      <th>19</th>\n",
       "      <td>bar 2</td>\n",
       "      <td>60.258704</td>\n",
       "    </tr>\n",
       "  </tbody>\n",
       "</table>\n",
       "</div>"
      ],
      "text/plain": [
       "         0           1\n",
       "0   bar 14   93.438857\n",
       "1    bar 8   67.919044\n",
       "2   bar 16  121.364365\n",
       "3   bar 15   90.993793\n",
       "4   bar 12  152.071032\n",
       "5    bar 6   27.682568\n",
       "6   bar 17  107.329703\n",
       "7    bar 9   52.381706\n",
       "8    bar 7   61.567487\n",
       "9   bar 18  105.214779\n",
       "10  bar 11   31.562558\n",
       "11  bar 19   18.224434\n",
       "12   bar 3  129.809513\n",
       "13   bar 5  100.603858\n",
       "14  bar 20   86.513158\n",
       "15  bar 10   60.572635\n",
       "16   bar 1   83.678519\n",
       "17  bar 13  150.560439\n",
       "18   bar 4   49.250977\n",
       "19   bar 2   60.258704"
      ]
     },
     "execution_count": 8,
     "metadata": {},
     "output_type": "execute_result"
    }
   ],
   "source": [
    "# Carly\n",
    "query.execute(\n",
    "\"\"\"\n",
    "SELECT bar, AVG(price) \n",
    "FROM has_on_menu \n",
    "GROUP BY has_on_menu.bar\n",
    "\"\"\")\n",
    "\n",
    "response = query.fetchall()\n",
    "pd.DataFrame(response)"
   ]
  },
  {
   "cell_type": "code",
   "execution_count": 9,
   "metadata": {
    "slideshow": {
     "slide_type": "subslide"
    }
   },
   "outputs": [
    {
     "data": {
      "text/html": [
       "<div>\n",
       "<style scoped>\n",
       "    .dataframe tbody tr th:only-of-type {\n",
       "        vertical-align: middle;\n",
       "    }\n",
       "\n",
       "    .dataframe tbody tr th {\n",
       "        vertical-align: top;\n",
       "    }\n",
       "\n",
       "    .dataframe thead th {\n",
       "        text-align: right;\n",
       "    }\n",
       "</style>\n",
       "<table border=\"1\" class=\"dataframe\">\n",
       "  <thead>\n",
       "    <tr style=\"text-align: right;\">\n",
       "      <th></th>\n",
       "      <th>0</th>\n",
       "      <th>1</th>\n",
       "    </tr>\n",
       "  </thead>\n",
       "  <tbody>\n",
       "    <tr>\n",
       "      <th>0</th>\n",
       "      <td>bar 14</td>\n",
       "      <td>93.438857</td>\n",
       "    </tr>\n",
       "    <tr>\n",
       "      <th>1</th>\n",
       "      <td>bar 8</td>\n",
       "      <td>67.919044</td>\n",
       "    </tr>\n",
       "    <tr>\n",
       "      <th>2</th>\n",
       "      <td>bar 16</td>\n",
       "      <td>121.364365</td>\n",
       "    </tr>\n",
       "    <tr>\n",
       "      <th>3</th>\n",
       "      <td>bar 15</td>\n",
       "      <td>90.993793</td>\n",
       "    </tr>\n",
       "    <tr>\n",
       "      <th>4</th>\n",
       "      <td>bar 12</td>\n",
       "      <td>152.071032</td>\n",
       "    </tr>\n",
       "    <tr>\n",
       "      <th>5</th>\n",
       "      <td>bar 6</td>\n",
       "      <td>27.682568</td>\n",
       "    </tr>\n",
       "    <tr>\n",
       "      <th>6</th>\n",
       "      <td>bar 17</td>\n",
       "      <td>107.329703</td>\n",
       "    </tr>\n",
       "    <tr>\n",
       "      <th>7</th>\n",
       "      <td>bar 9</td>\n",
       "      <td>52.381706</td>\n",
       "    </tr>\n",
       "    <tr>\n",
       "      <th>8</th>\n",
       "      <td>bar 7</td>\n",
       "      <td>61.567487</td>\n",
       "    </tr>\n",
       "    <tr>\n",
       "      <th>9</th>\n",
       "      <td>bar 18</td>\n",
       "      <td>105.214779</td>\n",
       "    </tr>\n",
       "    <tr>\n",
       "      <th>10</th>\n",
       "      <td>bar 11</td>\n",
       "      <td>31.562558</td>\n",
       "    </tr>\n",
       "    <tr>\n",
       "      <th>11</th>\n",
       "      <td>bar 19</td>\n",
       "      <td>18.224434</td>\n",
       "    </tr>\n",
       "    <tr>\n",
       "      <th>12</th>\n",
       "      <td>bar 3</td>\n",
       "      <td>129.809513</td>\n",
       "    </tr>\n",
       "    <tr>\n",
       "      <th>13</th>\n",
       "      <td>bar 5</td>\n",
       "      <td>100.603858</td>\n",
       "    </tr>\n",
       "    <tr>\n",
       "      <th>14</th>\n",
       "      <td>bar 20</td>\n",
       "      <td>86.513158</td>\n",
       "    </tr>\n",
       "    <tr>\n",
       "      <th>15</th>\n",
       "      <td>bar 10</td>\n",
       "      <td>60.572635</td>\n",
       "    </tr>\n",
       "    <tr>\n",
       "      <th>16</th>\n",
       "      <td>bar 1</td>\n",
       "      <td>83.678519</td>\n",
       "    </tr>\n",
       "    <tr>\n",
       "      <th>17</th>\n",
       "      <td>bar 13</td>\n",
       "      <td>150.560439</td>\n",
       "    </tr>\n",
       "    <tr>\n",
       "      <th>18</th>\n",
       "      <td>bar 4</td>\n",
       "      <td>49.250977</td>\n",
       "    </tr>\n",
       "    <tr>\n",
       "      <th>19</th>\n",
       "      <td>bar 2</td>\n",
       "      <td>60.258704</td>\n",
       "    </tr>\n",
       "  </tbody>\n",
       "</table>\n",
       "</div>"
      ],
      "text/plain": [
       "         0           1\n",
       "0   bar 14   93.438857\n",
       "1    bar 8   67.919044\n",
       "2   bar 16  121.364365\n",
       "3   bar 15   90.993793\n",
       "4   bar 12  152.071032\n",
       "5    bar 6   27.682568\n",
       "6   bar 17  107.329703\n",
       "7    bar 9   52.381706\n",
       "8    bar 7   61.567487\n",
       "9   bar 18  105.214779\n",
       "10  bar 11   31.562558\n",
       "11  bar 19   18.224434\n",
       "12   bar 3  129.809513\n",
       "13   bar 5  100.603858\n",
       "14  bar 20   86.513158\n",
       "15  bar 10   60.572635\n",
       "16   bar 1   83.678519\n",
       "17  bar 13  150.560439\n",
       "18   bar 4   49.250977\n",
       "19   bar 2   60.258704"
      ]
     },
     "execution_count": 9,
     "metadata": {},
     "output_type": "execute_result"
    }
   ],
   "source": [
    "query.execute(\n",
    "\"\"\"\n",
    "SELECT bar, AVG(price) AS avg_price\n",
    "FROM has_on_menu\n",
    "GROUP BY bar\n",
    "\"\"\")\n",
    "\n",
    "response = query.fetchall()\n",
    "\n",
    "pd.DataFrame(response)"
   ]
  },
  {
   "cell_type": "code",
   "execution_count": 10,
   "metadata": {},
   "outputs": [
    {
     "name": "stdout",
     "output_type": "stream",
     "text": [
      "[('bar 14', 93.43885736465454), ('bar 8', 67.91904382705688), ('bar 16', 121.36436504125595), ('bar 15', 90.99379272460938), ('bar 12', 152.07103157043457), ('bar 6', 27.682567596435547), ('bar 17', 107.32970309257507), ('bar 9', 52.38170552253723), ('bar 7', 61.56748652458191), ('bar 18', 105.2147786617279), ('bar 11', 31.56255849202474), ('bar 19', 18.22443421681722), ('bar 3', 129.80951288768225), ('bar 5', 100.60385791460673), ('bar 20', 86.51315768559773), ('bar 10', 60.57263496943882), ('bar 1', 83.67851856776646), ('bar 13', 150.56043901443482), ('bar 4', 49.25097733736038), ('bar 2', 60.25870447158813)]\n"
     ]
    }
   ],
   "source": [
    "print(response)"
   ]
  },
  {
   "cell_type": "code",
   "execution_count": 11,
   "metadata": {},
   "outputs": [
    {
     "name": "stdout",
     "output_type": "stream",
     "text": [
      "['bar', 'avg_price']\n"
     ]
    }
   ],
   "source": [
    "colnames = [desc[0] for desc in query.description]\n",
    "print(colnames)"
   ]
  },
  {
   "cell_type": "markdown",
   "metadata": {
    "slideshow": {
     "slide_type": "slide"
    }
   },
   "source": [
    "### Question 2:\n",
    "Get the bars with the top 5 average prices.\n",
    "\n",
    "What do you think? How can we adapt the code we did before?\n",
    "\n",
    "---\n",
    "Reminder - our database:\n",
    "\n",
    "<img src='our-db.png' width=400 align='left'>"
   ]
  },
  {
   "cell_type": "code",
   "execution_count": 12,
   "metadata": {
    "scrolled": true,
    "slideshow": {
     "slide_type": "subslide"
    }
   },
   "outputs": [
    {
     "data": {
      "text/html": [
       "<div>\n",
       "<style scoped>\n",
       "    .dataframe tbody tr th:only-of-type {\n",
       "        vertical-align: middle;\n",
       "    }\n",
       "\n",
       "    .dataframe tbody tr th {\n",
       "        vertical-align: top;\n",
       "    }\n",
       "\n",
       "    .dataframe thead th {\n",
       "        text-align: right;\n",
       "    }\n",
       "</style>\n",
       "<table border=\"1\" class=\"dataframe\">\n",
       "  <thead>\n",
       "    <tr style=\"text-align: right;\">\n",
       "      <th></th>\n",
       "      <th>0</th>\n",
       "      <th>1</th>\n",
       "    </tr>\n",
       "  </thead>\n",
       "  <tbody>\n",
       "    <tr>\n",
       "      <th>0</th>\n",
       "      <td>bar 12</td>\n",
       "      <td>152.071032</td>\n",
       "    </tr>\n",
       "    <tr>\n",
       "      <th>1</th>\n",
       "      <td>bar 13</td>\n",
       "      <td>150.560439</td>\n",
       "    </tr>\n",
       "    <tr>\n",
       "      <th>2</th>\n",
       "      <td>bar 3</td>\n",
       "      <td>129.809513</td>\n",
       "    </tr>\n",
       "    <tr>\n",
       "      <th>3</th>\n",
       "      <td>bar 16</td>\n",
       "      <td>121.364365</td>\n",
       "    </tr>\n",
       "    <tr>\n",
       "      <th>4</th>\n",
       "      <td>bar 17</td>\n",
       "      <td>107.329703</td>\n",
       "    </tr>\n",
       "  </tbody>\n",
       "</table>\n",
       "</div>"
      ],
      "text/plain": [
       "        0           1\n",
       "0  bar 12  152.071032\n",
       "1  bar 13  150.560439\n",
       "2   bar 3  129.809513\n",
       "3  bar 16  121.364365\n",
       "4  bar 17  107.329703"
      ]
     },
     "execution_count": 12,
     "metadata": {},
     "output_type": "execute_result"
    }
   ],
   "source": [
    "query.execute(\n",
    "\"\"\"\n",
    "SELECT bar, AVG(price) AS avg_price\n",
    "FROM has_on_menu\n",
    "GROUP BY bar\n",
    "ORDER BY avg_price DESC\n",
    "LIMIT 5\n",
    "\"\"\")\n",
    "\n",
    "response = query.fetchall()\n",
    "\n",
    "pd.DataFrame(response)"
   ]
  },
  {
   "cell_type": "code",
   "execution_count": 13,
   "metadata": {},
   "outputs": [
    {
     "name": "stdout",
     "output_type": "stream",
     "text": [
      "['bar', 'avg_price']\n"
     ]
    }
   ],
   "source": [
    "colnames = [desc[0] for desc in query.description]\n",
    "print(colnames)"
   ]
  },
  {
   "cell_type": "markdown",
   "metadata": {
    "slideshow": {
     "slide_type": "slide"
    }
   },
   "source": [
    "### Question 3:\n",
    "Which bar sells the cheapest drink? Which drink and what's the price?\n",
    "\n",
    "---\n",
    "Reminder - our database:\n",
    "\n",
    "<img src='our-db.png' width=400 align='left'>"
   ]
  },
  {
   "cell_type": "code",
   "execution_count": 14,
   "metadata": {
    "slideshow": {
     "slide_type": "subslide"
    }
   },
   "outputs": [
    {
     "data": {
      "text/html": [
       "<div>\n",
       "<style scoped>\n",
       "    .dataframe tbody tr th:only-of-type {\n",
       "        vertical-align: middle;\n",
       "    }\n",
       "\n",
       "    .dataframe tbody tr th {\n",
       "        vertical-align: top;\n",
       "    }\n",
       "\n",
       "    .dataframe thead th {\n",
       "        text-align: right;\n",
       "    }\n",
       "</style>\n",
       "<table border=\"1\" class=\"dataframe\">\n",
       "  <thead>\n",
       "    <tr style=\"text-align: right;\">\n",
       "      <th></th>\n",
       "      <th>0</th>\n",
       "      <th>1</th>\n",
       "      <th>2</th>\n",
       "    </tr>\n",
       "  </thead>\n",
       "  <tbody>\n",
       "    <tr>\n",
       "      <th>0</th>\n",
       "      <td>bar 18</td>\n",
       "      <td>drink 43</td>\n",
       "      <td>3.477886</td>\n",
       "    </tr>\n",
       "  </tbody>\n",
       "</table>\n",
       "</div>"
      ],
      "text/plain": [
       "        0         1         2\n",
       "0  bar 18  drink 43  3.477886"
      ]
     },
     "execution_count": 14,
     "metadata": {},
     "output_type": "execute_result"
    }
   ],
   "source": [
    "query.execute(\n",
    "\"\"\"\n",
    "SELECT bar, drink_id, price\n",
    "FROM has_on_menu\n",
    "ORDER BY price ASC\n",
    "LIMIT 1;\n",
    "\"\"\")\n",
    "\n",
    "response = query.fetchall()\n",
    "\n",
    "pd.DataFrame(response)"
   ]
  },
  {
   "cell_type": "markdown",
   "metadata": {
    "slideshow": {
     "slide_type": "slide"
    }
   },
   "source": [
    "### Question 4:\n",
    "What is the number of beers sold by each bar?\n",
    "\n",
    "(If you interpret it to be \"sold\" as in available for sale, then you need `has_on_menu`; if you interpret \"sold\" as in a sale was made, then you need `orders`)\n",
    "\n",
    "Hint: you need two tables here\n",
    "\n",
    "---\n",
    "Reminder - our database:\n",
    "\n",
    "<img src='our-db.png' width=400 align='left'>"
   ]
  },
  {
   "cell_type": "code",
   "execution_count": 15,
   "metadata": {},
   "outputs": [
    {
     "data": {
      "text/html": [
       "<div>\n",
       "<style scoped>\n",
       "    .dataframe tbody tr th:only-of-type {\n",
       "        vertical-align: middle;\n",
       "    }\n",
       "\n",
       "    .dataframe tbody tr th {\n",
       "        vertical-align: top;\n",
       "    }\n",
       "\n",
       "    .dataframe thead th {\n",
       "        text-align: right;\n",
       "    }\n",
       "</style>\n",
       "<table border=\"1\" class=\"dataframe\">\n",
       "  <thead>\n",
       "    <tr style=\"text-align: right;\">\n",
       "      <th></th>\n",
       "      <th>0</th>\n",
       "      <th>1</th>\n",
       "    </tr>\n",
       "  </thead>\n",
       "  <tbody>\n",
       "    <tr>\n",
       "      <th>0</th>\n",
       "      <td>bar 20</td>\n",
       "      <td>176</td>\n",
       "    </tr>\n",
       "    <tr>\n",
       "      <th>1</th>\n",
       "      <td>bar 5</td>\n",
       "      <td>111</td>\n",
       "    </tr>\n",
       "    <tr>\n",
       "      <th>2</th>\n",
       "      <td>bar 3</td>\n",
       "      <td>108</td>\n",
       "    </tr>\n",
       "    <tr>\n",
       "      <th>3</th>\n",
       "      <td>bar 11</td>\n",
       "      <td>80</td>\n",
       "    </tr>\n",
       "    <tr>\n",
       "      <th>4</th>\n",
       "      <td>bar 2</td>\n",
       "      <td>79</td>\n",
       "    </tr>\n",
       "    <tr>\n",
       "      <th>5</th>\n",
       "      <td>bar 10</td>\n",
       "      <td>66</td>\n",
       "    </tr>\n",
       "    <tr>\n",
       "      <th>6</th>\n",
       "      <td>bar 17</td>\n",
       "      <td>36</td>\n",
       "    </tr>\n",
       "  </tbody>\n",
       "</table>\n",
       "</div>"
      ],
      "text/plain": [
       "        0    1\n",
       "0  bar 20  176\n",
       "1   bar 5  111\n",
       "2   bar 3  108\n",
       "3  bar 11   80\n",
       "4   bar 2   79\n",
       "5  bar 10   66\n",
       "6  bar 17   36"
      ]
     },
     "execution_count": 15,
     "metadata": {},
     "output_type": "execute_result"
    }
   ],
   "source": [
    "query.execute(\n",
    "\"\"\"\n",
    "SELECT orders.bar, SUM(orders.quantity) as beers_sold from orders\n",
    "JOIN drink_info ON drink_info.drink_id = orders.drink_id\n",
    "WHERE drink_info.type = 'beer'\n",
    "GROUP BY orders.bar\n",
    "ORDER BY beers_sold DESC\n",
    "\"\"\"\n",
    ")\n",
    "\n",
    "response = query.fetchall()\n",
    "\n",
    "pd.DataFrame(response)"
   ]
  },
  {
   "cell_type": "code",
   "execution_count": 16,
   "metadata": {
    "scrolled": true,
    "slideshow": {
     "slide_type": "subslide"
    }
   },
   "outputs": [
    {
     "data": {
      "text/html": [
       "<div>\n",
       "<style scoped>\n",
       "    .dataframe tbody tr th:only-of-type {\n",
       "        vertical-align: middle;\n",
       "    }\n",
       "\n",
       "    .dataframe tbody tr th {\n",
       "        vertical-align: top;\n",
       "    }\n",
       "\n",
       "    .dataframe thead th {\n",
       "        text-align: right;\n",
       "    }\n",
       "</style>\n",
       "<table border=\"1\" class=\"dataframe\">\n",
       "  <thead>\n",
       "    <tr style=\"text-align: right;\">\n",
       "      <th></th>\n",
       "      <th>0</th>\n",
       "      <th>1</th>\n",
       "    </tr>\n",
       "  </thead>\n",
       "  <tbody>\n",
       "    <tr>\n",
       "      <th>0</th>\n",
       "      <td>bar 17</td>\n",
       "      <td>36</td>\n",
       "    </tr>\n",
       "    <tr>\n",
       "      <th>1</th>\n",
       "      <td>bar 10</td>\n",
       "      <td>66</td>\n",
       "    </tr>\n",
       "    <tr>\n",
       "      <th>2</th>\n",
       "      <td>bar 2</td>\n",
       "      <td>79</td>\n",
       "    </tr>\n",
       "    <tr>\n",
       "      <th>3</th>\n",
       "      <td>bar 11</td>\n",
       "      <td>80</td>\n",
       "    </tr>\n",
       "    <tr>\n",
       "      <th>4</th>\n",
       "      <td>bar 3</td>\n",
       "      <td>108</td>\n",
       "    </tr>\n",
       "    <tr>\n",
       "      <th>5</th>\n",
       "      <td>bar 5</td>\n",
       "      <td>111</td>\n",
       "    </tr>\n",
       "    <tr>\n",
       "      <th>6</th>\n",
       "      <td>bar 20</td>\n",
       "      <td>176</td>\n",
       "    </tr>\n",
       "  </tbody>\n",
       "</table>\n",
       "</div>"
      ],
      "text/plain": [
       "        0    1\n",
       "0  bar 17   36\n",
       "1  bar 10   66\n",
       "2   bar 2   79\n",
       "3  bar 11   80\n",
       "4   bar 3  108\n",
       "5   bar 5  111\n",
       "6  bar 20  176"
      ]
     },
     "execution_count": 16,
     "metadata": {},
     "output_type": "execute_result"
    }
   ],
   "source": [
    "query.execute(\n",
    "\"\"\"\n",
    "SELECT o.bar, SUM(o.quantity) total_beer\n",
    "    FROM orders o, drink_info d\n",
    "    WHERE o.drink_id = d.drink_id \n",
    "        AND d.type = 'beer'\n",
    "    GROUP BY bar\n",
    "    ORDER BY total_beer;\n",
    "\"\"\")\n",
    "\n",
    "response = query.fetchall()\n",
    "\n",
    "pd.DataFrame(response)"
   ]
  },
  {
   "cell_type": "markdown",
   "metadata": {
    "slideshow": {
     "slide_type": "slide"
    }
   },
   "source": [
    "### Challenge question\n",
    "\n",
    "For each person, find the bar they visit, and the type(s) and price(s) of the drink(s) they drink during those visits.\n",
    "\n",
    "---\n",
    "Reminder - our database:\n",
    "\n",
    "<img src='our-db.png' width=400 align='left'>"
   ]
  },
  {
   "cell_type": "code",
   "execution_count": 17,
   "metadata": {
    "slideshow": {
     "slide_type": "subslide"
    }
   },
   "outputs": [
    {
     "data": {
      "text/html": [
       "<div>\n",
       "<style scoped>\n",
       "    .dataframe tbody tr th:only-of-type {\n",
       "        vertical-align: middle;\n",
       "    }\n",
       "\n",
       "    .dataframe tbody tr th {\n",
       "        vertical-align: top;\n",
       "    }\n",
       "\n",
       "    .dataframe thead th {\n",
       "        text-align: right;\n",
       "    }\n",
       "</style>\n",
       "<table border=\"1\" class=\"dataframe\">\n",
       "  <thead>\n",
       "    <tr style=\"text-align: right;\">\n",
       "      <th></th>\n",
       "      <th>0</th>\n",
       "      <th>1</th>\n",
       "      <th>2</th>\n",
       "      <th>3</th>\n",
       "    </tr>\n",
       "  </thead>\n",
       "  <tbody>\n",
       "    <tr>\n",
       "      <th>0</th>\n",
       "      <td>person 1</td>\n",
       "      <td>bar 9</td>\n",
       "      <td>cocktail</td>\n",
       "      <td>26.487211</td>\n",
       "    </tr>\n",
       "    <tr>\n",
       "      <th>1</th>\n",
       "      <td>person 1</td>\n",
       "      <td>bar 9</td>\n",
       "      <td>vodka</td>\n",
       "      <td>99.061460</td>\n",
       "    </tr>\n",
       "    <tr>\n",
       "      <th>2</th>\n",
       "      <td>person 1</td>\n",
       "      <td>bar 19</td>\n",
       "      <td>cocktail</td>\n",
       "      <td>11.775652</td>\n",
       "    </tr>\n",
       "    <tr>\n",
       "      <th>3</th>\n",
       "      <td>person 1</td>\n",
       "      <td>bar 19</td>\n",
       "      <td>rum</td>\n",
       "      <td>18.195812</td>\n",
       "    </tr>\n",
       "    <tr>\n",
       "      <th>4</th>\n",
       "      <td>person 1</td>\n",
       "      <td>bar 19</td>\n",
       "      <td>whisky</td>\n",
       "      <td>34.507183</td>\n",
       "    </tr>\n",
       "    <tr>\n",
       "      <th>...</th>\n",
       "      <td>...</td>\n",
       "      <td>...</td>\n",
       "      <td>...</td>\n",
       "      <td>...</td>\n",
       "    </tr>\n",
       "    <tr>\n",
       "      <th>1605</th>\n",
       "      <td>person 100</td>\n",
       "      <td>bar 2</td>\n",
       "      <td>cocktail</td>\n",
       "      <td>18.345350</td>\n",
       "    </tr>\n",
       "    <tr>\n",
       "      <th>1606</th>\n",
       "      <td>person 100</td>\n",
       "      <td>bar 2</td>\n",
       "      <td>beer</td>\n",
       "      <td>7.545805</td>\n",
       "    </tr>\n",
       "    <tr>\n",
       "      <th>1607</th>\n",
       "      <td>person 100</td>\n",
       "      <td>bar 2</td>\n",
       "      <td>rum</td>\n",
       "      <td>6.449759</td>\n",
       "    </tr>\n",
       "    <tr>\n",
       "      <th>1608</th>\n",
       "      <td>person 100</td>\n",
       "      <td>bar 15</td>\n",
       "      <td>wine</td>\n",
       "      <td>144.248120</td>\n",
       "    </tr>\n",
       "    <tr>\n",
       "      <th>1609</th>\n",
       "      <td>person 100</td>\n",
       "      <td>bar 15</td>\n",
       "      <td>cocktail</td>\n",
       "      <td>25.871601</td>\n",
       "    </tr>\n",
       "  </tbody>\n",
       "</table>\n",
       "<p>1610 rows × 4 columns</p>\n",
       "</div>"
      ],
      "text/plain": [
       "               0       1         2           3\n",
       "0       person 1   bar 9  cocktail   26.487211\n",
       "1       person 1   bar 9     vodka   99.061460\n",
       "2       person 1  bar 19  cocktail   11.775652\n",
       "3       person 1  bar 19       rum   18.195812\n",
       "4       person 1  bar 19    whisky   34.507183\n",
       "...          ...     ...       ...         ...\n",
       "1605  person 100   bar 2  cocktail   18.345350\n",
       "1606  person 100   bar 2      beer    7.545805\n",
       "1607  person 100   bar 2       rum    6.449759\n",
       "1608  person 100  bar 15      wine  144.248120\n",
       "1609  person 100  bar 15  cocktail   25.871601\n",
       "\n",
       "[1610 rows x 4 columns]"
      ]
     },
     "execution_count": 17,
     "metadata": {},
     "output_type": "execute_result"
    }
   ],
   "source": [
    "query.execute(\n",
    "\"\"\"\n",
    "SELECT o.person, o.bar, d.type, h.price\n",
    "    FROM orders o\n",
    "    JOIN has_on_menu h ON (o.drink_id = h.drink_id AND o.bar = h.bar) \n",
    "    JOIN drink_info d ON o.drink_id = d.drink_id;\n",
    "\"\"\")\n",
    "\n",
    "response = query.fetchall()\n",
    "\n",
    "pd.DataFrame(response)"
   ]
  },
  {
   "cell_type": "markdown",
   "metadata": {
    "slideshow": {
     "slide_type": "slide"
    }
   },
   "source": [
    "### Making sure we close off the connection"
   ]
  },
  {
   "cell_type": "code",
   "execution_count": 18,
   "metadata": {
    "slideshow": {
     "slide_type": "-"
    }
   },
   "outputs": [],
   "source": [
    "query.close()"
   ]
  },
  {
   "cell_type": "markdown",
   "metadata": {
    "slideshow": {
     "slide_type": "slide"
    }
   },
   "source": [
    "## Additional resoures\n",
    "\n",
    "* What does it mean to [normalize data](https://docs.microsoft.com/en-us/office/troubleshoot/access/database-normalization-description#:~:text=Normalization%20is%20the%20process%20of,eliminating%20redundancy%20and%20inconsistent%20dependency.)? "
   ]
  }
 ],
 "metadata": {
  "celltoolbar": "Slideshow",
  "kernelspec": {
   "display_name": "Python 3",
   "language": "python",
   "name": "python3"
  },
  "language_info": {
   "codemirror_mode": {
    "name": "ipython",
    "version": 3
   },
   "file_extension": ".py",
   "mimetype": "text/x-python",
   "name": "python",
   "nbconvert_exporter": "python",
   "pygments_lexer": "ipython3",
   "version": "3.7.4"
  }
 },
 "nbformat": 4,
 "nbformat_minor": 4
}
