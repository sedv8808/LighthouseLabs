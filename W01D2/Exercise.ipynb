{
 "cells": [
  {
   "cell_type": "markdown",
   "metadata": {},
   "source": [
    "## Example Problem \n",
    "### (Prison Break)\n",
    "A prison can be represented as a list of cells. Each cell contains exactly one prisoner. A 1 represents an unlocked cell and a 0 represents a locked cell.\n",
    "\n",
    "```[1, 1, 0, 0, 0, 1, 0]```\n",
    "Starting from the leftmost cell, you are tasked with seeing how many prisoners you can set free, with a catch. Each time you free a prisoner, the locked cells become unlocked, and the unlocked cells become locked again.\n",
    "\n",
    "So, if we use the example above:\n",
    "```\n",
    "[1, 1, 0, 0, 0, 1, 0] \n",
    "# You free the prisoner in the 1st cell.\n",
    "\n",
    "[0, 0, 1, 1, 1, 0, 1] \n",
    "# You free the prisoner in the 3rd cell (2nd one locked).\n",
    "\n",
    "[1, 1, 0, 0, 0, 1, 0]\n",
    "# You free the prisoner in the 6th cell (3rd, 4th and 5th locked).\n",
    "\n",
    "[0, 0, 1, 1, 1, 0, 1]\n",
    "# You free the prisoner in the 7th cell - and you are done!\n",
    "Here, we have freed 4 prisoners in total.\n",
    "```\n",
    "Create a function that, given this unique prison arrangement, returns the number of freed prisoners.\n",
    "\n",
    "### Examples\n",
    "```\n",
    "freed_prisoners([1, 1, 0, 0, 0, 1, 0]) ➞ 4\n",
    "freed_prisoners([1, 1, 1]) ➞ 1\n",
    "freed_prisoners([0, 0, 0]) ➞ 0\n",
    "freed_prisoners([0, 1, 1, 1]) ➞ 0\n",
    "```\n",
    "\n",
    "### Notes\n",
    "You must free a prisoner in order for the locks to switch. So in second example where the input is [1, 1, 1], after you release the first prisoner, the locks change to [0, 0, 0]. Since all cells are locked, you can release no more prisoners.\n",
    "You always start with the leftmost element in the list (the first prison cell). If all the prison cells to your right are zeroes, you cannot free any more prisoners."
   ]
  },
  {
   "cell_type": "code",
   "execution_count": null,
   "metadata": {},
   "outputs": [],
   "source": []
  }
 ],
 "metadata": {
  "kernelspec": {
   "display_name": "Python 3",
   "language": "python",
   "name": "python3"
  },
  "language_info": {
   "codemirror_mode": {
    "name": "ipython",
    "version": 3
   },
   "file_extension": ".py",
   "mimetype": "text/x-python",
   "name": "python",
   "nbconvert_exporter": "python",
   "pygments_lexer": "ipython3",
   "version": "3.7.4"
  }
 },
 "nbformat": 4,
 "nbformat_minor": 2
}
