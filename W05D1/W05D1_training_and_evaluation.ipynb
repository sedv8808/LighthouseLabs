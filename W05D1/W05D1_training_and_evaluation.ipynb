{
 "cells": [
  {
   "cell_type": "markdown",
   "metadata": {
    "slideshow": {
     "slide_type": "slide"
    }
   },
   "source": [
    "## Lighthouse Labs\n",
    "### W05D1 Training and Evaluation\n",
    "\n",
    "\n",
    "Instructor: Socorro Dominguez  \n",
    "June 21, 2021"
   ]
  },
  {
   "cell_type": "markdown",
   "metadata": {
    "slideshow": {
     "slide_type": "slide"
    }
   },
   "source": [
    "## Overview\n",
    "- Training models\n",
    "    - Overfitting\n",
    "    - Train-test split\n",
    "    - Sampling bias\n",
    "    - Cross-validation\n",
    "    - Hyperparameter tuning\n",
    "        - Grid search\n",
    "- Model evaluation\n",
    "    - Regression\n",
    "    - Classification"
   ]
  },
  {
   "cell_type": "code",
   "execution_count": 44,
   "metadata": {
    "slideshow": {
     "slide_type": "skip"
    }
   },
   "outputs": [],
   "source": [
    "import pandas as pd\n",
    "import numpy as np\n",
    "import seaborn as sns; sns.set(style='darkgrid', context='talk')\n",
    "import matplotlib.pyplot as plt\n",
    "\n",
    "# Suppress some warnings that sklearn is returning when a model doesn't perform well\n",
    "from warnings import simplefilter\n",
    "from sklearn.exceptions import ConvergenceWarning\n",
    "simplefilter(\"ignore\", category=ConvergenceWarning)"
   ]
  },
  {
   "cell_type": "markdown",
   "metadata": {
    "slideshow": {
     "slide_type": "slide"
    }
   },
   "source": [
    "# Training models"
   ]
  },
  {
   "cell_type": "markdown",
   "metadata": {
    "slideshow": {
     "slide_type": "fragment"
    }
   },
   "source": [
    "## Overfitting\n",
    "\n",
    "#### Intuition\n",
    "- Imagine studying for an exam using a set of practice questions\n",
    "- If you do well on the practice questions, are you guaranteed to do well on the real exam?\n",
    "- Goal is to *learn the underlying concepts* rather than *memorize the questions/answers*\n",
    "- This is called **generalization**\n"
   ]
  },
  {
   "cell_type": "markdown",
   "metadata": {
    "slideshow": {
     "slide_type": "slide"
    }
   },
   "source": [
    "![](images/overfitting.png)\n",
    "- Data has two components components: signal (pattern) + noise\n",
    "- Example: predicting house prices from # of bedrooms, area, age, etc.\n",
    "    - Signal: degree to which these features influence the price\n",
    "    - Noise: random variation, or variation due to unknown features\n",
    "- When the model is fitting the noise, it is overfitting\n",
    "- Overfitting is undesirable: noise is random and doesn't behave the same on new data.\n",
    "- **Why** does overfitting happen? Too complex."
   ]
  },
  {
   "cell_type": "markdown",
   "metadata": {
    "slideshow": {
     "slide_type": "slide"
    }
   },
   "source": [
    "## Test/train split\n",
    "\n",
    "#### Intuition\n",
    "- If you were studying from practice exams, what would you do to get an idea of how you will perform on the real one?\n",
    "- Idea:\n",
    "    1. Learn from some practice exams that you do again and again (training data)\n",
    "    2. Write a *new* practice exam that you left to the side (test data)\n",
    "- This strategy will give you an idea of how well you will generalize"
   ]
  },
  {
   "cell_type": "markdown",
   "metadata": {
    "slideshow": {
     "slide_type": "slide"
    }
   },
   "source": [
    "#### Theory\n",
    "- With more powerful models, we can always arbitrarily fit the training data better and better (lower training error)\n",
    "- What we're actually trying to achieve is good performance on **new data that our model was never trained on**\n",
    "- We can train our model on just a subset of our whole dataset (**train set**) and evaluate its performance on the rest (**test set**)"
   ]
  },
  {
   "cell_type": "markdown",
   "metadata": {
    "slideshow": {
     "slide_type": "slide"
    }
   },
   "source": [
    "<img src=\"images/test_set.png\" style=\"width: 700px;\"/>\n",
    "\n",
    "![](images/overfitting_training.png)"
   ]
  },
  {
   "cell_type": "markdown",
   "metadata": {
    "slideshow": {
     "slide_type": "slide"
    }
   },
   "source": [
    "### Train/test split example"
   ]
  },
  {
   "cell_type": "code",
   "execution_count": 45,
   "metadata": {
    "slideshow": {
     "slide_type": "slide"
    }
   },
   "outputs": [
    {
     "name": "stdout",
     "output_type": "stream",
     "text": [
      "Dataset has 506 data points and 13 features\n"
     ]
    }
   ],
   "source": [
    "# Load the dataset\n",
    "from sklearn.datasets import load_boston\n",
    "from sklearn.utils import shuffle\n",
    "\n",
    "boston_data = load_boston()\n",
    "X, y = boston_data['data'], boston_data['target']\n",
    "\n",
    "# It is good practice to shuffle your data, since it\n",
    "# may be ordered in a particular way (e.g. increasing target)\n",
    "X, y = shuffle(X, y, random_state=27)\n",
    "\n",
    "print(f'Dataset has {X.shape[0]} data points and {X.shape[1]} features')"
   ]
  },
  {
   "cell_type": "code",
   "execution_count": 46,
   "metadata": {
    "slideshow": {
     "slide_type": "slide"
    }
   },
   "outputs": [
    {
     "name": "stdout",
     "output_type": "stream",
     "text": [
      "354 training samples and 152 test samples\n"
     ]
    }
   ],
   "source": [
    "# Make train/test split\n",
    "# Let's use 70% of the data for training and evaluate on the remaining 30%\n",
    "train_ratio = 0.7\n",
    "\n",
    "X_train, X_test = X[:int(train_ratio * len(X))], X[int(train_ratio * len(X)):]\n",
    "y_train, y_test = y[:int(train_ratio * len(y))], y[int(train_ratio * len(y)):]\n",
    "\n",
    "print(f'{len(X_train)} training samples and {len(X_test)} test samples')"
   ]
  },
  {
   "cell_type": "code",
   "execution_count": 47,
   "metadata": {
    "slideshow": {
     "slide_type": "fragment"
    }
   },
   "outputs": [
    {
     "name": "stdout",
     "output_type": "stream",
     "text": [
      "354 training samples and 152 test samples\n"
     ]
    }
   ],
   "source": [
    "# In practice, we can just use sklearn's convenience function for making the above split instead\n",
    "from sklearn.model_selection import train_test_split\n",
    "\n",
    "X_train, X_test, y_train, y_test = train_test_split(X, y, shuffle=False, train_size=train_ratio)\n",
    "\n",
    "print(f'{len(X_train)} training samples and {len(X_test)} test samples')"
   ]
  },
  {
   "cell_type": "code",
   "execution_count": 48,
   "metadata": {
    "slideshow": {
     "slide_type": "slide"
    }
   },
   "outputs": [
    {
     "data": {
      "text/plain": [
       "LinearRegression()"
      ]
     },
     "execution_count": 48,
     "metadata": {},
     "output_type": "execute_result"
    }
   ],
   "source": [
    "# Train our model\n",
    "from sklearn.linear_model import LinearRegression\n",
    "\n",
    "reg = LinearRegression()\n",
    "reg.fit(X_train, y_train)"
   ]
  },
  {
   "cell_type": "code",
   "execution_count": 60,
   "metadata": {
    "slideshow": {
     "slide_type": "slide"
    }
   },
   "outputs": [
    {
     "name": "stdout",
     "output_type": "stream",
     "text": [
      "Train R^2:\t0.7402284217377644\n",
      "Test R^2:\t0.7287877060675566\n"
     ]
    }
   ],
   "source": [
    "# Check performance on train and test set\n",
    "from sklearn.metrics import r2_score\n",
    "\n",
    "y_train_pred = reg.predict(X_train)\n",
    "y_test_pred = reg.predict(X_test)\n",
    "\n",
    "r2_train = r2_score(y_train, y_train_pred)\n",
    "r2_test = r2_score(y_test, y_test_pred)\n",
    "\n",
    "print(f'Train R^2:\\t{r2_train}\\n\\\n",
    "Test R^2:\\t{r2_test}')"
   ]
  },
  {
   "cell_type": "markdown",
   "metadata": {
    "slideshow": {
     "slide_type": "slide"
    }
   },
   "source": [
    "#### Debrief\n",
    "The test set performance is actually *similar* to the train set. Our model doesn't seem to be overfitting.\n",
    "\n",
    "But the score is low... Perhaps we can use a more complex model and get even better performance on the test set. Let's try polynomial regression."
   ]
  },
  {
   "cell_type": "code",
   "execution_count": 71,
   "metadata": {
    "slideshow": {
     "slide_type": "slide"
    }
   },
   "outputs": [
    {
     "name": "stdout",
     "output_type": "stream",
     "text": [
      "Number of polynomial features: 105\n",
      "Train R^2:\t0.9187440709740665\n",
      "Test R^2:\t0.8436000264565409\n"
     ]
    }
   ],
   "source": [
    "from sklearn.preprocessing import PolynomialFeatures\n",
    "\n",
    "# Create polynomial feature set and train model\n",
    "polinomial = PolynomialFeatures(degree=2)\n",
    "\n",
    "Xpoly_train = polinomial.fit_transform(X_train)\n",
    "Xpoly_test = polinomial.transform(X_test)\n",
    "\n",
    "print(f'Number of polynomial features: {Xpoly_train.shape[1]}')\n",
    "\n",
    "# Predictions\n",
    "reg.fit(Xpoly_train, y_train)\n",
    "ypoly_train_pred = reg.predict(Xpoly_train)\n",
    "ypoly_test_pred = reg.predict(Xpoly_test)\n",
    "\n",
    "# Check performance on train and test set\n",
    "r2poly_train = r2_score(y_train, ypoly_train_pred)\n",
    "r2poly_test = r2_score(y_test, ypoly_test_pred)\n",
    "print(f'Train R^2:\\t{r2poly_train}\\nTest R^2:\\t{r2poly_test}')"
   ]
  },
  {
   "cell_type": "markdown",
   "metadata": {
    "slideshow": {
     "slide_type": "fragment"
    }
   },
   "source": [
    "Our more complex second-order polynomial regression model performed even better on the test set.\n",
    "Our model might be overfitting, but we are not sure yet.\n",
    "Let's bump up the complexity one more time and try third-order polynomial regression."
   ]
  },
  {
   "cell_type": "code",
   "execution_count": 73,
   "metadata": {
    "slideshow": {
     "slide_type": "slide"
    }
   },
   "outputs": [
    {
     "name": "stdout",
     "output_type": "stream",
     "text": [
      "Number of polynomial features: 2380\n",
      "Train R^2:\t1.0\n",
      "Test R^2:\t-183.82391435535058\n"
     ]
    }
   ],
   "source": [
    "# Create polynomial feature set and train model\n",
    "poly4 = PolynomialFeatures(degree=4)\n",
    "Xpoly3_train = poly4.fit_transform(X_train)\n",
    "Xpoly3_test = poly4.transform(X_test)\n",
    "print(f'Number of polynomial features: {Xpoly3_train.shape[1]}')\n",
    "\n",
    "# Train our model\n",
    "reg.fit(Xpoly3_train, y_train)\n",
    "ypoly3_train_pred = reg.predict(Xpoly3_train)\n",
    "ypoly3_test_pred = reg.predict(Xpoly3_test)\n",
    "\n",
    "# Check performance on train and test set\n",
    "r2poly3_train = r2_score(y_train, ypoly3_train_pred)\n",
    "r2poly3_test = r2_score(y_test, ypoly3_test_pred)\n",
    "print(f'Train R^2:\\t{r2poly3_train}\\nTest R^2:\\t{r2poly3_test}')"
   ]
  },
  {
   "cell_type": "markdown",
   "metadata": {
    "slideshow": {
     "slide_type": "fragment"
    }
   },
   "source": [
    "Our more complex 4-order polynomial regression model did horribly on the test set. Notice that it overfits the training set completly (perfect prediction). This can happen in linear regression when we have more features than data points."
   ]
  },
  {
   "cell_type": "code",
   "execution_count": 76,
   "metadata": {
    "slideshow": {
     "slide_type": "slide"
    }
   },
   "outputs": [
    {
     "data": {
      "image/png": "[encoded data removed]",
      "text/plain": [
       "<Figure size 864x432 with 1 Axes>"
      ]
     },
     "metadata": {},
     "output_type": "display_data"
    }
   ],
   "source": [
    "# Show performance of all models on train and test set\n",
    "df = pd.DataFrame({'Model Complexity': ['linear', 'linear', '2nd-order', '2nd-order', '4th-order', '4th-order'],\n",
    "                  'R^2': [r2_train, r2_test, r2poly_train, r2poly_test, r2poly3_train, r2poly3_test],\n",
    "                  'Set': ['train', 'test', 'train', 'test', 'train', 'test']})\n",
    "df['R^2'] = df['R^2'].clip(lower=0)    # Threshold minimum R^2 to 0 for nicer display of results (if it's 0, we already know it learned nothing)\n",
    "\n",
    "plt.figure(figsize=(12, 6))\n",
    "sns.lineplot(x='Model Complexity', y='R^2', hue='Set', data=df, sort=False)\n",
    "plt.ylim(ymin=0, ymax=1)\n",
    "plt.ylabel('R^2 (higher is better)')\n",
    "plt.show()"
   ]
  },
  {
   "cell_type": "markdown",
   "metadata": {
    "slideshow": {
     "slide_type": "slide"
    }
   },
   "source": [
    "## Sampling bias\n",
    "\n",
    "- Remember that the model just learns patterns in the data you give it.\n",
    "- If our dataset isn't representative of the type of data we want our model to handle afterwards, it is not going to perform well.\n",
    "- Most machine learning models fail dramatically for **out of distribution** data that is very different from what we've trained on."
   ]
  },
  {
   "cell_type": "markdown",
   "metadata": {
    "slideshow": {
     "slide_type": "fragment"
    }
   },
   "source": [
    "\n",
    "\n",
    "### Activity\n",
    "Think of a **dataset** and machine learning **task** where:\n",
    "- Our data was collected within a certain distribution (e.g. house prices in Toronto)\n",
    "- We evaluate it on out of distribution data where it would fail (e.g. house prices in Tokyo)\n",
    "\n",
    "Essentially **all** datasets are biased one way or another. Train yourself to think of different ways\n",
    "that they could be biased and different reasons why. Understanding the conditions under which your model\n",
    "will work and fail is essential when deploying it in the real world.\n",
    "\n",
    "*Try and think creatively about real scenarios where the dataset would be biased because of where it came from!\n",
    "(e.g. don't just say it only had house prices from Toronto, give a realistic explanation for why that might happen)*\n",
    "\n",
    "<!--\n",
    "- Old dataset from another decade\n",
    "- One data-source (e.g. Creg's list). Very common problem which will cause bias from multiple sources. Instagram selfie example from ModiFace\n",
    "- Different data processing (e.g. you forget to standardize the new data coming in like you did with your training data)\n",
    "- Different data formats or devices. For images, different cameras. For audio, different microphones. For text, different writing medium\n",
    "- Dataset too small (most common problem, since statistically small dataset is bound to be biased). Problem gets worse the more features we have\n",
    "-->"
   ]
  },
  {
   "cell_type": "markdown",
   "metadata": {
    "slideshow": {
     "slide_type": "slide"
    }
   },
   "source": [
    "## Cross-validation\n",
    "- We wish to evaluate our model on a dataset with little sampling bias, so that we know how it will perform in the real world\n",
    "- Smaller datasets are far more likely to suffer from sampling bias\n",
    "- This creates a conflict:\n",
    "    - We want to have a big test set to get a realistic estimate of our model's performance without sampling bias\n",
    "    - We want to have a big training set so that our model can learn without sampling bias\n",
    "- How can we reconcile these goals?\n",
    "- **One answer:** cross-validation. Even if any single fold suffers from sampling bias, at least we are averaging the results from many"
   ]
  },
  {
   "cell_type": "markdown",
   "metadata": {
    "slideshow": {
     "slide_type": "slide"
    }
   },
   "source": [
    "\n",
    "<img src=\"images/cross_validation.png\" style=\"width: 1000px;\"/>"
   ]
  },
  {
   "cell_type": "markdown",
   "metadata": {
    "slideshow": {
     "slide_type": "slide"
    }
   },
   "source": [
    "### Cross-validation example"
   ]
  },
  {
   "cell_type": "code",
   "execution_count": 53,
   "metadata": {
    "slideshow": {
     "slide_type": "fragment"
    }
   },
   "outputs": [
    {
     "name": "stdout",
     "output_type": "stream",
     "text": [
      "The folds are of type <class 'list'> and contain 102, 101, 101, 101, 101 data points\n"
     ]
    }
   ],
   "source": [
    "# Make the folds\n",
    "k_folds = 5\n",
    "\n",
    "X_folds, y_folds = np.array_split(X, k_folds), np.array_split(y, k_folds)\n",
    "\n",
    "fold_sizes = ', '.join([str(len(f)) for f in X_folds])\n",
    "print(f'The folds are of type {type(X_folds)} and contain {fold_sizes} data points')"
   ]
  },
  {
   "cell_type": "code",
   "execution_count": 54,
   "metadata": {
    "slideshow": {
     "slide_type": "slide"
    }
   },
   "outputs": [
    {
     "name": "stdout",
     "output_type": "stream",
     "text": [
      "[0.7057189451172963, 0.6566041936444882, 0.7203026852522953, 0.7898705155348587, 0.7287877060675566]\n"
     ]
    }
   ],
   "source": [
    "# List that will accumulate test performance on each fold\n",
    "cv_r2 = []\n",
    "\n",
    "for i in range(k_folds):\n",
    "    # Make the train/test set for this fold\n",
    "    X_test = X_folds[i]\n",
    "    y_test = y_folds[i]\n",
    "    X_train = [X_folds[j] for j in range(k_folds) if j != i]\n",
    "    y_train = [y_folds[j] for j in range(k_folds) if j != i]\n",
    "    X_train = np.concatenate(X_train)\n",
    "    y_train = np.concatenate(y_train)\n",
    "    \n",
    "    # Train the model\n",
    "    reg.fit(X_train, y_train)\n",
    "    \n",
    "    # Evaluate the model on the test set\n",
    "    y_pred = reg.predict(X_test)\n",
    "    r2 = r2_score(y_test, y_pred)\n",
    "    \n",
    "    cv_r2.append(r2)\n",
    "    \n",
    "print(cv_r2)"
   ]
  },
  {
   "cell_type": "code",
   "execution_count": 12,
   "metadata": {
    "slideshow": {
     "slide_type": "fragment"
    }
   },
   "outputs": [
    {
     "name": "stdout",
     "output_type": "stream",
     "text": [
      "Cross-validated R^2\n",
      "Mean:\t0.7202568091232989\n",
      "Std.:\t0.04285289109219576\n"
     ]
    }
   ],
   "source": [
    "# Get the mean and standard deviation of the cross-validation test set performance across folds\n",
    "cv_r2 = np.array(cv_r2)\n",
    "print(f'Cross-validated R^2\\nMean:\\t{cv_r2.mean()}\\nStd.:\\t{cv_r2.std()}')"
   ]
  },
  {
   "cell_type": "markdown",
   "metadata": {
    "slideshow": {
     "slide_type": "slide"
    }
   },
   "source": [
    "Notice that this test set performance is actually lower than in our initial example when we split the\n",
    "dataset once into a train/test set. We should trust this estimate more, because it was computed\n",
    "from 5 different train/test splits rather than a single one."
   ]
  },
  {
   "cell_type": "markdown",
   "metadata": {
    "slideshow": {
     "slide_type": "fragment"
    }
   },
   "source": [
    "**THINK:** Are we taking into consideration the Golden Rule here?"
   ]
  },
  {
   "cell_type": "markdown",
   "metadata": {
    "slideshow": {
     "slide_type": "slide"
    }
   },
   "source": [
    "#### sklearn provides an [easy](https://scikit-learn.org/stable/modules/generated/sklearn.model_selection.KFold.html) way to do cross-validation"
   ]
  },
  {
   "cell_type": "code",
   "execution_count": 13,
   "metadata": {
    "slideshow": {
     "slide_type": "fragment"
    }
   },
   "outputs": [
    {
     "name": "stdout",
     "output_type": "stream",
     "text": [
      "Cross-validated R^2\n",
      "Mean:\t0.7202568091232989\n",
      "Std.:\t0.04285289109219576\n"
     ]
    }
   ],
   "source": [
    "from sklearn.model_selection import KFold\n",
    "\n",
    "# List that will accumulate test performance on each fold\n",
    "cv_r2 = []\n",
    "\n",
    "kf = KFold(n_splits=k_folds)\n",
    "\n",
    "for train_idx, test_idx in kf.split(X):\n",
    "    X_train, X_test, y_train, y_test = X[train_idx], X[test_idx], y[train_idx], y[test_idx]\n",
    "    \n",
    "    # Train the model\n",
    "    reg.fit(X_train, y_train)\n",
    "    \n",
    "    # Evaluate the model on the test set\n",
    "    y_pred = reg.predict(X_test)\n",
    "    r2 = r2_score(y_test, y_pred)\n",
    "    \n",
    "    cv_r2.append(r2)\n",
    "    \n",
    "# Get the mean and standard deviation of the cross-validation test set performance across folds\n",
    "cv_r2 = np.array(cv_r2)\n",
    "print(f'Cross-validated R^2\\nMean:\\t{cv_r2.mean()}\\nStd.:\\t{cv_r2.std()}')"
   ]
  },
  {
   "cell_type": "markdown",
   "metadata": {
    "slideshow": {
     "slide_type": "slide"
    }
   },
   "source": [
    "#### And an even [easier way](https://scikit-learn.org/stable/modules/generated/sklearn.model_selection.cross_val_score.html) that even gets you the scores."
   ]
  },
  {
   "cell_type": "code",
   "execution_count": 77,
   "metadata": {
    "slideshow": {
     "slide_type": "fragment"
    }
   },
   "outputs": [
    {
     "name": "stdout",
     "output_type": "stream",
     "text": [
      "Cross-validated R^2\n",
      "Mean:\t0.7202568091232989\n",
      "Std.:\t0.04285289109219576\n"
     ]
    }
   ],
   "source": [
    "from sklearn.model_selection import cross_val_score\n",
    "\n",
    "cv_r2 = cross_val_score(reg, X, y, cv=k_folds, scoring='r2')\n",
    "print(f'Cross-validated R^2\\nMean:\\t{cv_r2.mean()}\\nStd.:\\t{cv_r2.std()}')"
   ]
  },
  {
   "cell_type": "markdown",
   "metadata": {
    "slideshow": {
     "slide_type": "slide"
    }
   },
   "source": [
    "## Hyperparameter tuning\n",
    "- Most models often have parameters that we must set, which are not learned during training. We call these **hyperparameters**\n",
    "- For instance, Ridge Regression, which uses L2 regularization to prevent overfitting, requires us to set a λ parameter that balances the weight penalty vs. prediction error in the loss term\n",
    "- If these hyperparameters are not learned during training, how do we learn them?\n",
    "- The most common method amounts to, disappointingly, guess-and-check... We try a bunch of values for the hyperparameters and set them to whatever achieves the lowest loss\n",
    "    - Common techniques: grid search, random search\n",
    "    - More advanced techniques (that we won't look at): Bayesian optimization, genetic algorithms"
   ]
  },
  {
   "cell_type": "markdown",
   "metadata": {
    "slideshow": {
     "slide_type": "slide"
    }
   },
   "source": [
    "### Grid search with cross-validation\n",
    "- For each hyperparameter, specify a list of values we want to try\n",
    "- Train a version of the model using each *combination* of hyperparameters\n",
    "- Whichever combination achieves the lowest loss will be picked\n",
    "\n",
    "<img src=\"images/grid_search.png\" style=\"width: 1000px;\"/>\n",
    "\n",
    "- Our hyperparameters are often selected to prevent overfitting (e.g. λ for L2 regularization, learning rate, etc.)\n",
    "- To select the best hyperparameters that prevent overfitting, we should be selecting the ones that give the best performance on some held out data\n",
    "- For that reason, grid search is frequently combined with cross-validation, and we pick the hyperparameters that gave the best average validation performance across folds"
   ]
  },
  {
   "cell_type": "markdown",
   "metadata": {
    "slideshow": {
     "slide_type": "slide"
    }
   },
   "source": [
    "### Grid search with cross-validation example"
   ]
  },
  {
   "cell_type": "code",
   "execution_count": 81,
   "metadata": {
    "slideshow": {
     "slide_type": "fragment"
    }
   },
   "outputs": [
    {
     "name": "stdout",
     "output_type": "stream",
     "text": [
      "The best hyperparameter settings achieve a cross-validated\n",
      "R^2     : 0.7207\n",
      "Alpha   : 0.01\n",
      "L1 ratio: 0\n"
     ]
    }
   ],
   "source": [
    "from sklearn.linear_model import ElasticNet\n",
    "from sklearn.preprocessing import StandardScaler\n",
    "\n",
    "# Scale features since weight magnitudes will effect regularization weight penalties\n",
    "X_scaled = StandardScaler().fit_transform(X)\n",
    "\n",
    "# Hyperparameter settings we want to try\n",
    "alphas = [0.001, 0.01, 0.1, 1]\n",
    "l1_ratios = [0, 0.25, 0.5, 0.75, 1]\n",
    "\n",
    "# Keep track of the best hyperparameters found so far\n",
    "best_r2 = -np.inf\n",
    "best_alpha = None\n",
    "best_l1_ratio = None\n",
    "\n",
    "for alpha in alphas:\n",
    "    for l1_ratio in l1_ratios:\n",
    "        model = ElasticNet(alpha=alpha, l1_ratio=l1_ratio, random_state=27)\n",
    "        cv_r2 = cross_val_score(model, X_scaled, y, cv=k_folds, scoring='r2')\n",
    "        if cv_r2.mean() > best_r2:\n",
    "            best_r2 = cv_r2.mean()\n",
    "            best_alpha = alpha\n",
    "            best_l1_ratio = l1_ratio\n",
    "            \n",
    "print(f'The best hyperparameter settings achieve a cross-validated\\n\\\n",
    "R^2     : {round(best_r2,4)}\\n\\\n",
    "Alpha   : {best_alpha}\\n\\\n",
    "L1 ratio: {best_l1_ratio}')"
   ]
  },
  {
   "cell_type": "markdown",
   "metadata": {
    "slideshow": {
     "slide_type": "slide"
    }
   },
   "source": [
    "#### As always, sklearn provides an [easier way](https://scikit-learn.org/stable/modules/generated/sklearn.model_selection.GridSearchCV.html)"
   ]
  },
  {
   "cell_type": "code",
   "execution_count": 83,
   "metadata": {
    "slideshow": {
     "slide_type": "fragment"
    }
   },
   "outputs": [
    {
     "name": "stdout",
     "output_type": "stream",
     "text": [
      "The best hyperparameter settings achieve a cross-validated\n",
      "R^2     : 0.7206816828526261\n",
      "Alpha   : 0.01\n",
      "L1 ratio: 0\n"
     ]
    }
   ],
   "source": [
    "from sklearn.model_selection import GridSearchCV\n",
    "\n",
    "# Make a dictionary with model arguments as keys and lists of grid settings as values\n",
    "param_grid = {\n",
    "              'alpha': [0.001, 0.01, 0.1, 1],\n",
    "              'l1_ratio': [0, 0.25, 0.5, 0.75, 1]\n",
    "              }\n",
    "\n",
    "grid = GridSearchCV(estimator = model, \n",
    "                    param_grid = param_grid,\n",
    "                    cv = k_folds, \n",
    "                    scoring = 'r2', \n",
    "                    verbose=0, n_jobs=-1) # verbose=1 -> print results, n_jobs=-1 -> use all processors in parallel\n",
    "\n",
    "grid_result = grid.fit(X_scaled, y)\n",
    "\n",
    "best_r2 = grid_result.best_score_\n",
    "best_alpha = grid_result.best_params_['alpha']\n",
    "best_l1_ratio = grid_result.best_params_['l1_ratio']\n",
    "\n",
    "print(f'The best hyperparameter settings achieve a cross-validated\\n\\\n",
    "R^2     : {best_r2}\\n\\\n",
    "Alpha   : {best_alpha}\\n\\\n",
    "L1 ratio: {best_l1_ratio}')"
   ]
  },
  {
   "cell_type": "markdown",
   "metadata": {
    "slideshow": {
     "slide_type": "slide"
    }
   },
   "source": [
    "### Train / validation / test split\n",
    "\n",
    "**Question**: Have you noticed anything wrong with what we are doing? Should we trust our cross-validation score as a true estimate of performance on out-of-sample data?"
   ]
  },
  {
   "cell_type": "markdown",
   "metadata": {
    "slideshow": {
     "slide_type": "fragment"
    }
   },
   "source": [
    "We cannot trust it. We have been using the cross-validation score to select hyperparameters. You can think of this as having used the validation data in each fold to train our model in a way. So, our model will be biased to the dataset and our cross-validation score will be overly-optimistic."
   ]
  },
  {
   "cell_type": "markdown",
   "metadata": {
    "slideshow": {
     "slide_type": "slide"
    }
   },
   "source": [
    "**Solution**:\n",
    "\n",
    "1. Split the dataset into a train/test set\n",
    "2. Perform grid search with cross-validation on the training set. Each fold, the training set will be split into a train/validation set\n",
    "\n",
    "3. Using the hyperparameters that obtained the best cross-validation score, retrain the model on the entire training set (not just training folds within this training set)\n",
    "\n",
    "4. Evaluate the model on the test set to get a true estimate of the out-of-sample error\n",
    "\n",
    "<img src=\"images/cross_validation_with_test.png\" style=\"width: 1000px;\"/>"
   ]
  },
  {
   "cell_type": "code",
   "execution_count": 84,
   "metadata": {
    "slideshow": {
     "slide_type": "slide"
    }
   },
   "outputs": [
    {
     "name": "stdout",
     "output_type": "stream",
     "text": [
      "The best hyperparameter settings achieve a cross-validated\n",
      "R^2     : 0.7171522166211203\n",
      "Alpha   : 0.01\n",
      "L1 ratio: 0\n",
      "R^2 on the test set:\t0.725493932307976\n"
     ]
    }
   ],
   "source": [
    "# Split data into a train and test set\n",
    "X_train, X_test, y_train, y_test = train_test_split(X, y, shuffle=False, train_size=0.8)\n",
    "\n",
    "# Standardize the data using only statistics from the training set\n",
    "# (always assume no knowledge of the test set for most unbiased performance estimate)\n",
    "scaler = StandardScaler()\n",
    "scaler.fit(X_train)\n",
    "X_train = scaler.transform(X_train)\n",
    "X_test = scaler.transform(X_test)\n",
    "\n",
    "grid = GridSearchCV(estimator=model, param_grid=param_grid, cv=k_folds, scoring='r2', verbose=0, n_jobs=-1) # verbose=1 -> print results, n_jobs=-1 -> use all processors in parallel\n",
    "grid_result = grid.fit(X_train, y_train)\n",
    "\n",
    "best_r2 = grid_result.best_score_\n",
    "best_alpha = grid_result.best_params_['alpha']\n",
    "best_l1_ratio = grid_result.best_params_['l1_ratio']\n",
    "print(f'The best hyperparameter settings achieve a cross-validated\\n\\\n",
    "R^2     : {best_r2}\\n\\\n",
    "Alpha   : {best_alpha}\\n\\\n",
    "L1 ratio: {best_l1_ratio}')\n",
    "\n",
    "\n",
    "# Using the best hyperparameters, retrain on the entire train set and evaluate on the test set\n",
    "best_model = grid_result.best_estimator_    # Sklearn automatically retrains the model on the whole training set following cross-validation using the best hyperparameters\n",
    "y_pred = best_model.predict(X_test)\n",
    "r2_test = r2_score(y_test, y_pred)\n",
    "\n",
    "print(f'R^2 on the test set:\\t{r2_test}')"
   ]
  },
  {
   "cell_type": "markdown",
   "metadata": {
    "slideshow": {
     "slide_type": "slide"
    }
   },
   "source": [
    "# Model evaluation"
   ]
  },
  {
   "cell_type": "markdown",
   "metadata": {
    "slideshow": {
     "slide_type": "slide"
    }
   },
   "source": [
    "## Regression\n",
    "\n",
    "### Mean Squared Error (L2)\n",
    "- Commonly used (especially as training loss)\n",
    "- Large errors (from outliers) have disproportionate impact\n",
    "- Units not intuitive\n",
    "- Task-dependent (i.e. no maximum bound)\n",
    "\n",
    "\\begin{align}\n",
    "    MSE &= \\frac{1}{n} \\sum_{i=0}^n (y_i - \\hat{y}_i)^2 \\\\\n",
    "        &= \\frac{1}{n} (\\mathbf{y} - \\mathbf{\\hat{y}})^T (\\mathbf{y} - \\mathbf{\\hat{y}})\n",
    "\\end{align}"
   ]
  },
  {
   "cell_type": "markdown",
   "metadata": {
    "slideshow": {
     "slide_type": "slide"
    }
   },
   "source": [
    "### Root Mean Squared Error\n",
    "- Commonly used for evaluation, but not for training loss\n",
    "- Large errors (from outliers) have disproportionate impact\n",
    "- Units are intuitive\n",
    "- Task-dependent (i.e. no maximum bound)\n",
    "\n",
    "\\begin{align}\n",
    "    RMSE &= \\sqrt{\\frac{1}{n} \\sum_{i=0}^n (y_i - \\hat{y}_i)^2} \\\\\n",
    "         &= \\sqrt{\\frac{1}{n} (\\mathbf{y} - \\mathbf{\\hat{y}})^T (\\mathbf{y} - \\mathbf{\\hat{y}})}\n",
    "\\end{align}"
   ]
  },
  {
   "cell_type": "markdown",
   "metadata": {
    "slideshow": {
     "slide_type": "slide"
    }
   },
   "source": [
    "### Mean Absolute Error (L1)\n",
    "- Commonly used (especially as training loss, but less than Mean Squared Error)\n",
    "- Outliers have less impact\n",
    "- Units are intuitive\n",
    "- Task-dependent (i.e. no maximum bound)\n",
    "\n",
    "\\begin{align}\n",
    "    MAE &= \\frac{1}{n} \\sum_{i=0}^n |y_i - \\hat{y}_i|\n",
    "\\end{align}\n",
    "\n"
   ]
  },
  {
   "cell_type": "markdown",
   "metadata": {
    "slideshow": {
     "slide_type": "slide"
    }
   },
   "source": [
    "### Coefficient of Determination ($R^2$)\n",
    "- Measures the proportion of the variation in your dependent variable (Y) explained by your independent variables (X)\n",
    "- Commonly used for evaluation, but not for training loss\n",
    "- Intuitive interpretation\n",
    "- Task-independent (ranges from 0 to 1, although negative values can mean worse than most naive solution)\n",
    "- *Adjusted $R^2$* variant adjusts the statistic based on the number of independent variables in the model\n",
    "\n",
    "\\begin{align}\n",
    "    R^2 &= 1 - \\frac{\\text{Unexplained variance}}{\\text{Total variance}} \\\\\n",
    "        &= 1 - \\frac{MSE_{model}}{MSE_{baseline}} \\\\\n",
    "        &= 1 - \\frac{(\\mathbf{y} - \\mathbf{\\hat{y}})^T (\\mathbf{y} - \\mathbf{\\hat{y}})}{(\\mathbf{y} - \\mathbf{y}_{avg})^T (\\mathbf{y} - \\mathbf{y}_{avg})}\n",
    "\\end{align}"
   ]
  },
  {
   "cell_type": "markdown",
   "metadata": {
    "slideshow": {
     "slide_type": "slide"
    }
   },
   "source": [
    "## Classification\n",
    "- **Goal**: Predict between two or more discrete classes. For between two classes, called *binary* classification\n",
    "- **Example**: Predict whether or not someone has cancer (binary), predict what object is shown in an image (multiclass)"
   ]
  },
  {
   "cell_type": "markdown",
   "metadata": {
    "slideshow": {
     "slide_type": "fragment"
    }
   },
   "source": [
    "### Accuracy\n",
    "$$acc = \\frac{\\text{# of times correct}}{\\text{# of predictions made}}$$"
   ]
  },
  {
   "cell_type": "markdown",
   "metadata": {
    "slideshow": {
     "slide_type": "slide"
    }
   },
   "source": [
    "### Confusion matrix\n",
    "Full detail about how model fails\n",
    "\n",
    "| | Actual + | Actual - |\n",
    "|-|-|-|\n",
    "|Predicted + | True Positive | False Positive | \n",
    "|Predicted - | False Negative | True Negative |\n",
    "\n",
    "<img src=\"images/multiclass_confusion_matrix.png\" style=\"width: 300px; display: block; margin-left: auto; margin-right: auto\"/>"
   ]
  },
  {
   "cell_type": "markdown",
   "metadata": {
    "slideshow": {
     "slide_type": "slide"
    }
   },
   "source": [
    "#### In a binary case of 100 examples (50+, 50-), 95% accuracy:\n",
    "\n",
    "| | Actual + | Actual - |\n",
    "|-|-|-|\n",
    "|Predicted + | 50| 5 | \n",
    "|Predicted - |0 | 45|\n",
    "\n",
    "| | Actual + | Actual - |\n",
    "|-|-|-|\n",
    "|Predicted + | 45| 0 | \n",
    "|Predicted - |5 | 50|\n",
    "\n",
    "- Which model would you rather have predicting...\n",
    "    - **cancer diagnosis**? (positive means \"has cancer\")\n",
    "    - **spam filtering**? (positive means \"is spam\")\n",
    "    \n",
    "**Conclusion**: How your model fails matters"
   ]
  },
  {
   "cell_type": "markdown",
   "metadata": {
    "slideshow": {
     "slide_type": "slide"
    }
   },
   "source": [
    "### Metrics computed from binary confusion matrix\n",
    "\n",
    "#### Recall: True positives / Condition positive\n",
    "- We want high recall when we don't want to miss any positive conditions\n",
    "- Good for something like cancer diagnosis\n",
    "\n",
    "#### Precision: True positives / Detected or predicted positives\n",
    "- We want high precision if the machine learning model is going to trigger some automated process\n",
    "- Good for something like spam detection\n",
    "- Low precision may be okay in cancer diagnosis, just run another test\n",
    "\n",
    "#### F1 score: 2 * (Precision * Recall) / (Precision + Recall)\n",
    "- Combine both precision and recall into a single general-purpose metric\n",
    "- Useful for quickly comparing models\n",
    "- There are variations that weight precision/recall unequally"
   ]
  }
 ],
 "metadata": {
  "celltoolbar": "Slideshow",
  "kernelspec": {
   "display_name": "Python 3",
   "language": "python",
   "name": "python3"
  },
  "language_info": {
   "codemirror_mode": {
    "name": "ipython",
    "version": 3
   },
   "file_extension": ".py",
   "mimetype": "text/x-python",
   "name": "python",
   "nbconvert_exporter": "python",
   "pygments_lexer": "ipython3",
   "version": "3.7.4"
  }
 },
 "nbformat": 4,
 "nbformat_minor": 4
}
