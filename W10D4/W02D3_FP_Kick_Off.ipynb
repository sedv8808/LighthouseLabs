{
 "cells": [
  {
   "cell_type": "markdown",
   "metadata": {
    "slideshow": {
     "slide_type": "slide"
    }
   },
   "source": [
    "## Lighthouse Labs\n",
    "### Final Project Kick Off\n",
    "\n",
    "Instructor: Socorro Dominguez  \n",
    "July 01, 2021"
   ]
  },
  {
   "cell_type": "markdown",
   "metadata": {
    "slideshow": {
     "slide_type": "slide"
    }
   },
   "source": [
    "## Agenda\n",
    "\n",
    "* Logistics  \n",
    "* Development process  \n",
    "* Advice  \n",
    "* Project Q&A\n"
   ]
  },
  {
   "cell_type": "markdown",
   "metadata": {
    "slideshow": {
     "slide_type": "slide"
    }
   },
   "source": [
    "## Logistics\n",
    "\n",
    "### Demo day: ________\n",
    "\n",
    "**Dry runs:**\n",
    "* Tech dry run: \n",
    "* Presentation dry run: \n",
    "\n",
    "\n",
    "**Audience:** employers, peers, family, mentors.\n",
    "\n",
    "Walk your friends/family through the presentation website!\n",
    "\n",
    "**Length:** 5 minutes (!!strict!!)\n",
    "\n",
    "**Make sure to fill out the sheet with:**\n",
    "* Project name\n",
    "* Description\n"
   ]
  },
  {
   "cell_type": "markdown",
   "metadata": {
    "slideshow": {
     "slide_type": "slide"
    }
   },
   "source": [
    "## Development process\n"
   ]
  },
  {
   "cell_type": "markdown",
   "metadata": {
    "slideshow": {
     "slide_type": "slide"
    }
   },
   "source": [
    "## Scoping your project\n",
    "\n",
    "### Essential\n",
    "\n",
    "1. What is the dataset? Is there one available?\n",
    "2. What are the inputs/outputs of the model (as numbers)?\n",
    "3. What experiments do you want to do using the model (if any)?\n",
    "4. Is machine learning necessary?"
   ]
  },
  {
   "cell_type": "markdown",
   "metadata": {
    "slideshow": {
     "slide_type": "slide"
    }
   },
   "source": [
    "### Additional Considerations\n",
    "\n",
    "1. Unless you want a big challenge, avoid having to learn something new (e.g. reinforcement learning)\n",
    "2. Is there prior work to help you out?\n",
    "3. Is it computationally expensive?\n"
   ]
  },
  {
   "cell_type": "markdown",
   "metadata": {
    "slideshow": {
     "slide_type": "slide"
    }
   },
   "source": [
    "## Iterative Progress & Difficulty\n",
    "\n",
    "1. Make a minimum viable product (MVP) early.\n",
    "2. Dataset difficulty (e.g. one company’s stock before arbitrary company)\n",
    "3. Model complexity (e.g. autoregressive before LSTM)\n",
    "4. Task complexity (e.g. past stock before adding sentiment)"
   ]
  },
  {
   "cell_type": "markdown",
   "metadata": {
    "slideshow": {
     "slide_type": "slide"
    }
   },
   "source": [
    "## Milestones\n",
    "\n",
    "1. Research prior work\n",
    "2. Acquire/preprocess/explore dataset\n",
    "3. Design model\n",
    "4. Train and evaluate model\n",
    "5. Perform experiments (if any)\n",
    "6. Deploy model (or make figures)\n",
    "7. Finish presentation\n",
    "\n",
    "\n",
    "Establish **dates** and **specific goals** for each milestone."
   ]
  },
  {
   "cell_type": "markdown",
   "metadata": {
    "slideshow": {
     "slide_type": "slide"
    }
   },
   "source": [
    "## Use Git\n",
    "\n",
    "1. **Public:** Employers can see all the projects you’ve worked on\n",
    "2. **Versioned:** You will have a history and can roll back to old commits\n",
    "3. **Server deployment:** Just git pull to any new machine\n",
    "4. **Collaboration:** Everyone can work on their own copy and working versions to the master copy\n"
   ]
  },
  {
   "cell_type": "markdown",
   "metadata": {
    "slideshow": {
     "slide_type": "slide"
    }
   },
   "source": [
    "## Deployment\n",
    "\n",
    "1. Don’t need to deploy or demo anything; good figures can be good enough.\n",
    "2. If you have something like an image emotion classifier, a live demo can be cool.\n",
    "3. If you have something like a cancer classifier, just show us some performance metrics\n",
    "\n",
    "**Deployment options:**\n",
    "* Flask API (might demo with Postman)\n",
    "* Flask app with UI (harder; need to write HTML)\n",
    "* AWS remote Flask app (if you need a faster machine and have money)\n",
    "* Mobile app (hardest; find a template)\n",
    "* https://www.streamlit.io/ (good if you want UI, but learning a new library)\n"
   ]
  },
  {
   "cell_type": "markdown",
   "metadata": {
    "slideshow": {
     "slide_type": "slide"
    }
   },
   "source": [
    "## Advice"
   ]
  },
  {
   "cell_type": "markdown",
   "metadata": {
    "slideshow": {
     "slide_type": "slide"
    }
   },
   "source": [
    "## Code\n",
    "\n",
    "1. Define functions whenever possible (e.g. clean_data(df))\n",
    "2. Use pipelines for joint preprocessing, feature engineering, and model\n",
    "3. If using deep learning, generate training/validation curves as a function of epoch to see if your model is improving\n",
    "4. Save trained models and only retrain when needed\n",
    "5. Consider using ordinary .py files (note .ipynb notebooks) so that you can split the project up into multiple files (e.g. data_cleaning.py, training.py, app.py)\n",
    "6. Don’t show any code in your presentation\n"
   ]
  },
  {
   "cell_type": "markdown",
   "metadata": {
    "slideshow": {
     "slide_type": "slide"
    }
   },
   "source": [
    "## Compare to baselines\n",
    "\n",
    "1. How good is your model? Contextualize it with a baseline\n",
    "2. For classification: always predicting the most frequent y value\n",
    "    * E.g. always predicting no-cancer if it is the most common class in the dataset\n",
    "3. For regression: always predicting the mean y value (implicit in r2)\n",
    "    * E.g. always predicting the mean flight delay\n",
    "4. For forecasting: using a moving average model\n",
    "    * E.g. always predict the stock price tomorrow will be the average over the past week\n",
    "5. For any problem: hard-code a naive solution\n",
    "    * E.g. for hockey, always predict that the team with the better record will win the game\n"
   ]
  },
  {
   "cell_type": "markdown",
   "metadata": {
    "slideshow": {
     "slide_type": "slide"
    }
   },
   "source": [
    "## Presentation Structure\n",
    "\n",
    "1. **Motivation:** What is the problem? Why is it important (either business, public good, or research perspective)?\n",
    "2. **Task:** Problem from a technical perspective. Description of the dataset, algorithm inputs/outputs, analyses done using model\n",
    "3. **Modeling:** Important aspects of your approach. How did you process the data or engineer features? What model did you use? Use schematics!\n",
    "4. **Results:** Visuals! Show metrics and experiments. Demo (if any)\n",
    "5. **Conclusions:** What worked? What didn’t (and why)? How are we better off? Where could the project go next?\n"
   ]
  },
  {
   "cell_type": "markdown",
   "metadata": {
    "slideshow": {
     "slide_type": "slide"
    }
   },
   "source": [
    "## Figures\n",
    "\n",
    "### draw.io\n",
    "* Good for schematics, model diagrams, shapes, math typesetting, etc.\n",
    "\n",
    "\n",
    "### seaborn\n",
    "\n",
    "### plotly"
   ]
  },
  {
   "cell_type": "markdown",
   "metadata": {
    "slideshow": {
     "slide_type": "slide"
    }
   },
   "source": [
    "## Project Q&A"
   ]
  },
  {
   "cell_type": "code",
   "execution_count": null,
   "metadata": {},
   "outputs": [],
   "source": []
  }
 ],
 "metadata": {
  "celltoolbar": "Slideshow",
  "kernelspec": {
   "display_name": "Python 3",
   "language": "python",
   "name": "python3"
  },
  "language_info": {
   "codemirror_mode": {
    "name": "ipython",
    "version": 3
   },
   "file_extension": ".py",
   "mimetype": "text/x-python",
   "name": "python",
   "nbconvert_exporter": "python",
   "pygments_lexer": "ipython3",
   "version": "3.7.4"
  }
 },
 "nbformat": 4,
 "nbformat_minor": 2
}
