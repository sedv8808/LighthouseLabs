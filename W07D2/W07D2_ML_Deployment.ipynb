{
 "cells": [
  {
   "cell_type": "markdown",
   "metadata": {
    "slideshow": {
     "slide_type": "slide"
    }
   },
   "source": [
    "## Lighthouse Labs\n",
    "### W07D2 Deployment of ML Models\n",
    "Instructor: Socorro Dominguez  \n",
    "July 06, 2021"
   ]
  },
  {
   "cell_type": "markdown",
   "metadata": {
    "slideshow": {
     "slide_type": "slide"
    }
   },
   "source": [
    "**Agenda:**\n",
    "\n",
    "* REST APIs\n",
    "    * What is it?\n",
    "    * Applications\n",
    "   \n",
    "* Intro to Flask\n",
    "    * Flask for API creation\n",
    "    "
   ]
  },
  {
   "cell_type": "markdown",
   "metadata": {
    "slideshow": {
     "slide_type": "slide"
    }
   },
   "source": [
    "## How is Data Science related to the Web?"
   ]
  },
  {
   "cell_type": "markdown",
   "metadata": {
    "slideshow": {
     "slide_type": "fragment"
    }
   },
   "source": [
    "Web Pages are intended for Humans. However, there’s lots of valuable data embedding in web pages:\n",
    "* course listings\n",
    "* bank records\n",
    "* blogs"
   ]
  },
  {
   "cell_type": "markdown",
   "metadata": {
    "slideshow": {
     "slide_type": "slide"
    }
   },
   "source": [
    "### What if we wanted to collect this data for analysis?"
   ]
  },
  {
   "cell_type": "markdown",
   "metadata": {
    "slideshow": {
     "slide_type": "fragment"
    }
   },
   "source": [
    "We would need a program that acts like a web browser but collects web document data rather than displaying it.\n",
    "\n",
    "This is called `web scraping`. Popular methods include Scrapy, a free and open-source web-crawling framework written in Python. "
   ]
  },
  {
   "cell_type": "markdown",
   "metadata": {
    "slideshow": {
     "slide_type": "slide"
    }
   },
   "source": [
    "A Web Scraper...\n",
    "* acts like a web browser (i.e., sends HTTP GET requests to web server)\n",
    "* at the time it allows your to process the data that comes back.\n",
    "\n",
    "Some other useful libraries useful when scraping if you are interested:\n",
    "\n",
    "Beautiful Soup\n",
    "* python library that can parse HTML (Super useful)"
   ]
  },
  {
   "cell_type": "markdown",
   "metadata": {
    "slideshow": {
     "slide_type": "slide"
    }
   },
   "source": [
    "### Disadvantages of Web Scraping\n",
    "\n",
    "- Scraping processes are hard to understand.\n",
    "\n",
    "- Extracted data needs extensive cleaning (This is where we use `Beautiful Soup`). \n",
    "\n",
    "- In certain cases, this might take a long time and a lot of energy to complete (show why)\n",
    "\n",
    "- New data extraction applications a lot of time in the beginning. \n",
    "\n",
    "- Web scrapping services are slower than API calls.\n",
    "\n",
    "- If the developer of a website decides to introduce changes in the code, the scrapping service might stop working."
   ]
  },
  {
   "cell_type": "markdown",
   "metadata": {
    "slideshow": {
     "slide_type": "slide"
    }
   },
   "source": [
    "# Super Easy Example of Web Scraping"
   ]
  },
  {
   "cell_type": "code",
   "execution_count": 18,
   "metadata": {
    "slideshow": {
     "slide_type": "slide"
    }
   },
   "outputs": [],
   "source": [
    "import requests\n",
    "from bs4 import BeautifulSoup"
   ]
  },
  {
   "cell_type": "code",
   "execution_count": 19,
   "metadata": {
    "slideshow": {
     "slide_type": "fragment"
    }
   },
   "outputs": [],
   "source": [
    "URL = \"https://en.wikipedia.org/wiki/List_of_current_heads_of_state_and_government\""
   ]
  },
  {
   "cell_type": "code",
   "execution_count": 20,
   "metadata": {
    "slideshow": {
     "slide_type": "slide"
    }
   },
   "outputs": [
    {
     "name": "stdout",
     "output_type": "stream",
     "text": [
      "Afghanistan|President|Ashraf Ghani\n",
      "Albania|President|Ilir Meta\n",
      "Algeria|President|Abdelmadjid Tebboune\n",
      "Andorra|Episcopal Co-Prince|Joan Enric Vives i Sicília\n",
      "Angola|President|João Lourenço\n",
      "Antigua and Barbuda|Queen|Elizabeth II\n",
      "Argentina|President|Alberto Fernández\n",
      "Armenia|President|Armen Sarksyan\n",
      "Australia|Queen|Elizabeth II\n",
      "Austria|President|Alexander Van der Bellen\n",
      "Azerbaijan|President|Ilham Aliyev\n",
      "Bahamas, The|Queen|Elizabeth II\n",
      "Bahrain|King|Hamad bin Isa Al Khalifa\n",
      "Bangladesh|President|Abdul Hamid\n",
      "Barbados|Queen|Elizabeth II\n",
      "Belarus|President|Alexander Lukashenko\n",
      "Belgium|King|Philippe\n",
      "Belize|Queen|Elizabeth II\n",
      "Benin|President|Patrice Talon\n",
      "Bhutan|King|Jigme Khesar Namgyel Wangchuck\n",
      "Bolivia|President|Luis Arce\n",
      "Bosnia and Herzegovina|High Representative|Valentin Inzko\n",
      "Christian Schmidt|High Representative|Valentin Inzko\n",
      "Presidency|Chairman of the Council of Ministers|Zoran Tegeltija\n",
      "Milorad Dodik|Chairman of the Council of Ministers|Zoran Tegeltija\n",
      "Šefik Džaferović|Chairman of the Council of Ministers|Zoran Tegeltija\n",
      "Botswana|President|Mokgweetsi Masisi\n",
      "Brazil|President|Jair Bolsonaro\n",
      "Brunei|Sultan|Prime Minister\n",
      "Bulgaria|President|Rumen Radev\n",
      "Burkina Faso|President|Roch Marc Christian Kaboré\n",
      "Burundi|President|Évariste Ndayishimiye\n",
      "Cambodia|King|Norodom Sihamoni\n",
      "Cameroon|President|Paul Biya\n",
      "Canada|Queen|Elizabeth II\n",
      "Cape Verde|President|Jorge Carlos Fonseca\n",
      "Central African Republic|President|Faustin-Archange Touadéra\n",
      "Chad|Chairman of the Transitional Military Council|Mahamat Déby\n",
      "Interim President|Acting Prime Minister|Albert Pahimi Padacké\n",
      "Chile|President|Sebastián Piñera\n",
      "China|General Secretary of the Communist Party|Xi Jinping\n",
      "President|Premier of the State Council|Li Keqiang\n",
      "Colombia|President|Iván Duque\n",
      "Comoros|President|Azali Assoumani\n",
      "Congo, Democratic Republic of the|President|Félix Tshisekedi\n",
      "Congo, Republic of the|President|Denis Sassou Nguesso\n",
      "Costa Rica|President|Carlos Alvarado Quesada\n",
      "Croatia|President|Zoran Milanović\n",
      "Cuba|First Secretary of the Communist Party|Miguel Díaz-Canel\n",
      "President|Prime Minister|Manuel Marrero Cruz\n",
      "Cyprus|President|Nicos Anastasiades\n",
      "Czechia|President|Miloš Zeman\n",
      "Denmark|Queen|Margrethe II\n",
      "Djibouti|President|Ismaïl Omar Guelleh\n",
      "Dominica|President|Charles Savarin\n",
      "Dominican Republic|President|Luis Abinader\n",
      "East Timor|President|Francisco Guterres\n",
      "Ecuador|President|Guillermo Lasso\n",
      "Egypt|President|Abdel Fattah el-Sisi\n",
      "El Salvador|President|Nayib Bukele\n",
      "Equatorial Guinea|President|Teodoro Obiang Nguema Mbasogo\n",
      "Eritrea|Chairman of the People's Front for Democracy and Justice|Isaias Afwerki\n",
      "President|Chairman of the People's Front for Democracy and Justice|Isaias Afwerki\n",
      "Estonia|President|Kersti Kaljulaid\n",
      "Eswatini|King|Mswati III\n",
      "Ethiopia|President|Sahle-Work Zewde\n",
      "Fiji|President|Jioji Konrote\n",
      "Finland|President|Sauli Niinistö\n",
      "France|President|Emmanuel Macron\n",
      "Gabon|President|Ali Bongo Ondimba\n",
      "Gambia, The|President|Adama Barrow\n",
      "Georgia|President|Salome Zourabichvili\n",
      "Germany|President|Frank-Walter Steinmeier\n",
      "Ghana|President|Nana Akufo-Addo\n",
      "Greece|President|Katerina Sakellaropoulou\n",
      "Grenada|Queen|Elizabeth II\n",
      "Guatemala|President|Alejandro Giammattei\n",
      "Guinea|President|Alpha Condé\n",
      "Guinea-Bissau|President|Umaro Sissoco Embaló\n",
      "Guyana|President|Irfaan Ali\n",
      "Haiti|President|Jovenel Moïse\n",
      "Honduras|President|Juan Orlando Hernández\n",
      "Hungary|President|János Áder\n",
      "Iceland|President|Guðni Th. Jóhannesson\n",
      "India|President|Ram Nath Kovind\n",
      "Indonesia|President|Joko Widodo\n",
      "Iran|Supreme Leader|Ali Khamenei\n",
      "Ebrahim Raisi|Supreme Leader|Ali Khamenei\n",
      "Iraq|President|Barham Salih\n",
      "Ireland|President|Michael D. Higgins\n",
      "Israel|President|Reuven Rivlin\n",
      "Italy|President|Sergio Mattarella\n",
      "Ivory Coast|President|Alassane Ouattara\n",
      "Jamaica|Queen|Elizabeth II\n",
      "Japan|Emperor|Naruhito\n",
      "Jordan|King|Abdullah II\n",
      "Kazakhstan|Security Council|Nursultan Nazarbayev\n",
      "President|Prime Minister|Asqar Mamin\n",
      "Kenya|President|Uhuru Kenyatta\n",
      "Kiribati|President|Taneti Maamau\n",
      "Kuwait|Emir|Nawaf Al-Ahmad Al-Jaber Al-Sabah\n",
      "Kyrgyzstan|President|Sadyr Japarov\n",
      "Laos|General Secretary of the People's Revolutionary Party|Thongloun Sisoulith\n",
      "President|Prime Minister|Phankham Viphavanh\n",
      "Latvia|President|Egils Levits\n",
      "Lebanon|President|Michel Aoun\n",
      "Saad Hariri|President|Michel Aoun\n",
      "Lesotho|King|Letsie III\n",
      "Liberia|President|George Weah\n",
      "Libya|President|George Weah\n",
      "Presidential Council|Prime Minister|Abdul Hamid Dbeibeh\n",
      "Mohamed al-Menfi|Prime Minister|Abdul Hamid Dbeibeh\n",
      "Abdullah al-Lafi|Prime Minister|Abdul Hamid Dbeibeh\n",
      "Liechtenstein|Prince Regnant|Hans-Adam II\n",
      "Regent|Prince Regnant|Hans-Adam II\n",
      "Lithuania|President|Gitanas Nausėda\n",
      "Luxembourg|Grand Duke|Henri\n",
      "Madagascar|President|Andry Rajoelina\n",
      "Malawi|President|Lazarus Chakwera\n",
      "Malaysia|Yang di-Pertuan Agong|Abdullah Sultan Ahmad Shah\n",
      "Maldives|President|Ibrahim Mohamed Solih\n",
      "Mali|Interim President|Assimi Goïta\n",
      "Malta|President|George Vella\n",
      "Marshall Islands|President|David Kabua\n",
      "Mauritania|President|Mohamed Ould Ghazouani\n",
      "Mauritius|President|Prithvirajsing Roopun\n",
      "Mexico|President|Andrés Manuel López Obrador\n",
      "Federated States of Micronesia|President|David W. Panuelo\n",
      "Moldova|President|Maia Sandu\n",
      "Monaco|Sovereign Prince|Albert II\n",
      "Mongolia|President|Ukhnaagiin Khürelsükh\n",
      "Montenegro|President|Milo Đukanović\n",
      "Morocco|King|Mohammed VI\n",
      "Mozambique|President|Filipe Nyusi\n",
      "Myanmar|Chairman of the State Administration Council|Min Aung Hlaing\n",
      "Namibia|President|Hage Geingob\n",
      "Nauru|President|Lionel Aingimea\n",
      "Nepal|President|Bidhya Devi Bhandari\n",
      "Netherlands|King|Willem-Alexander\n",
      "New Zealand|Queen|Elizabeth II\n",
      "Nicaragua|President|Daniel Ortega\n",
      "Niger|President|Mohamed Bazoum\n",
      "Nigeria|President|Muhammadu Buhari\n",
      "North Korea|General Secretary of the Workers' Party of Korea|Kim Jong-un\n",
      "Supreme Leader|Premier of the Cabinet|Kim Tok-hun\n",
      "North Macedonia|President|Stevo Pendarovski\n",
      "Norway|King|Harald V\n",
      "Oman|Sultan|Prime Minister\n",
      "Pakistan|President|Arif Alvi\n",
      "Palau|President|Surangel Whipps Jr.\n",
      "Palestine|President|Mahmoud Abbas\n",
      "Panama|President|Laurentino Cortizo\n",
      "Papua New Guinea|Queen|Elizabeth II\n",
      "Paraguay|President|Mario Abdo Benítez\n",
      "Peru|Interim President|Francisco Sagasti\n",
      "Pedro Castillo|Interim President|Francisco Sagasti\n",
      "Philippines|President|Rodrigo Duterte\n",
      "Poland|President|Andrzej Duda\n",
      "Portugal|President|Marcelo Rebelo de Sousa\n",
      "Qatar|Emir|Tamim bin Hamad Al Thani\n",
      "Romania|President|Klaus Iohannis\n",
      "Russia|President|Vladimir Putin\n",
      "Rwanda|President|Paul Kagame\n",
      "Saint Kitts and Nevis|Queen|Elizabeth II\n",
      "Saint Lucia|Queen|Elizabeth II\n",
      "Saint Vincent and the Grenadines|Queen|Elizabeth II\n",
      "Samoa|O le Ao o le Malo|Tuimalealiifano Va'aletoa Sualauvi II\n",
      "San Marino|Captain Regent|Gian Carlo Venturini\n",
      "Captain Regent|Captain Regent|Gian Carlo Venturini\n",
      "São Tomé and Príncipe|President|Evaristo Carvalho\n",
      "Saudi Arabia|King|Salman\n",
      "Senegal|President|Macky Sall\n",
      "Serbia|President|Aleksandar Vučić\n",
      "Seychelles|President|Wavel Ramkalawan\n",
      "Sierra Leone|President|Julius Maada Bio\n",
      "Singapore|President|Halimah Yacob\n",
      "Slovakia|President|Zuzana Čaputová\n",
      "Slovenia|President|Borut Pahor\n",
      "Solomon Islands|Queen|Elizabeth II\n",
      "Somalia|President|Mohamed Abdullahi Mohamed\n",
      "South Africa|President|Cyril Ramaphosa\n",
      "South Korea|President|Moon Jae-in\n",
      "South Sudan|President|Salva Kiir Mayardit\n",
      "Spain|King|Felipe VI\n",
      "Sri Lanka|President|Gotabaya Rajapaksa\n",
      "Sudan|Leader of the Sovereignty Council|Abdel Fattah al-Burhan\n",
      "Suriname|President|Chan Santokhi\n",
      "Sweden|King|Carl XVI Gustaf\n",
      "Switzerland|King|Carl XVI Gustaf\n",
      "Federal Council|King|Carl XVI Gustaf\n",
      "Guy Parmelin|King|Carl XVI Gustaf\n",
      "Ignazio Cassis|King|Carl XVI Gustaf\n",
      "Syria|President|Bashar al-Assad\n",
      "Tajikistan|President|Emomali Rahmon\n",
      "Tanzania|President|Samia Suluhu Hassan\n",
      "Thailand|King|Vajiralongkorn\n",
      "Togo|President|Faure Gnassingbé\n",
      "Tonga|King|Tupou VI\n",
      "Trinidad and Tobago|President|Paula-Mae Weekes\n",
      "Tunisia|President|Kaïs Saïed\n",
      "Turkey|President|Recep Tayyip Erdoğan\n",
      "Turkmenistan|President|Gurbanguly Berdimuhamedow\n",
      "Tuvalu|Queen|Elizabeth II\n",
      "Uganda|President|Yoweri Museveni\n",
      "Ukraine|President|Volodymyr Zelensky\n",
      "United Arab Emirates|President|Khalifa bin Zayed Al Nahyan\n",
      "United Kingdom|Queen|Elizabeth II\n",
      "United States|President|Joe Biden\n",
      "Uruguay|President|Luis Lacalle Pou\n",
      "Uzbekistan|President|Shavkat Mirziyoyev\n",
      "Vanuatu|President|Tallis Obed Moses\n",
      "Vatican City|Sovereign|Pope Francis\n",
      "Venezuela|President|Nicolás Maduro\n",
      "Vietnam|General Secretary of the Communist Party|Nguyễn Phú Trọng\n",
      "President|Prime Minister|Phạm Minh Chính\n",
      "Yemen|President|Abdrabbuh Mansur Hadi\n",
      "Zambia|President|Edgar Lungu\n",
      "Zimbabwe|President|Emmerson Mnangagwa\n"
     ]
    }
   ],
   "source": [
    "res = requests.get(URL).text\n",
    "soup = BeautifulSoup(res,'lxml')\n",
    "for items in soup.find('table', class_='wikitable').find_all('tr')[1::1]:\n",
    "    data = items.find_all(['th','td'])\n",
    "    try:\n",
    "        country = data[0].a.text\n",
    "        title = data[1].a.text\n",
    "        name = data[1].a.find_next_sibling().text\n",
    "    except IndexError:pass\n",
    "    print(\"{}|{}|{}\".format(country,title,name))"
   ]
  },
  {
   "cell_type": "markdown",
   "metadata": {
    "slideshow": {
     "slide_type": "slide"
    }
   },
   "source": [
    "## What is an API?"
   ]
  },
  {
   "cell_type": "markdown",
   "metadata": {
    "slideshow": {
     "slide_type": "fragment"
    }
   },
   "source": [
    "**A**pplication  \n",
    "**P**rogramming  \n",
    "**I**nterface  \n",
    "  \n",
    "  \n",
    "**RE**presentation  \n",
    "**S**tate  \n",
    "**T**ransfer  \n",
    "Characteristics  "
   ]
  },
  {
   "cell_type": "markdown",
   "metadata": {
    "slideshow": {
     "slide_type": "slide"
    }
   },
   "source": [
    "### Characteristics?\n",
    "\n",
    "Client-server, typically HTTP-based, stateless server\n"
   ]
  },
  {
   "cell_type": "markdown",
   "metadata": {
    "slideshow": {
     "slide_type": "slide"
    }
   },
   "source": [
    "### Furthermore....\n",
    "\n",
    "some web site’s provide direct access to their data. For example: Twitter, Translink, Car2Go, Google Maps, Yahoo\n",
    "\n",
    "* Why would they do this?\n",
    "\n",
    "* Why would some web sites not do this?"
   ]
  },
  {
   "cell_type": "markdown",
   "metadata": {
    "slideshow": {
     "slide_type": "slide"
    }
   },
   "source": [
    "### What representation is DATA found in?"
   ]
  },
  {
   "cell_type": "markdown",
   "metadata": {
    "slideshow": {
     "slide_type": "fragment"
    }
   },
   "source": [
    "**J**ava**S**cript **O**bject **N**otation (json)\n",
    "\n",
    "\n",
    "Textual format for structured data  \n",
    "* [a,b,c] for arrays  \n",
    "* {‘x’: m, ‘y’: n, ‘z’: o} for objects"
   ]
  },
  {
   "cell_type": "markdown",
   "metadata": {
    "slideshow": {
     "slide_type": "slide"
    }
   },
   "source": [
    "JSON\n",
    "* textual description of python (javascript actually) objects\n",
    "* arrays and dictionaries\n",
    "\n",
    "```\n",
    "{\n",
    "'library': [\n",
    "           {'title': 'For Whom the Bell Tolls', 'author': 'Ernest Hemingway'},\n",
    "           {'title': 'Trump: The Art of the Deal', 'author': 'Good Question'}\n",
    "           ]\n",
    "}\n",
    "```"
   ]
  },
  {
   "cell_type": "markdown",
   "metadata": {
    "slideshow": {
     "slide_type": "subslide"
    }
   },
   "source": [
    "### Using a Web API\n",
    "\n",
    "Provider defines:\n",
    "* message format for requests and responses\n",
    "* usually in both XML and JSON\n",
    "* registration and authentication\n",
    "* usually using OAuth (delegated authorization framework for REST/APIs. It enables apps to obtain limited access to a user's data without giving away a user's password.)\n",
    "\n",
    "\n",
    "Language integration\n",
    "* might be provided or you might have to do it yourself\n",
    "* if provided, usually someone other than data source\n",
    "* library API for various languages like python\n",
    "* you write a python program that calls library procedures\n",
    "* library formats messages, sends them to web provider, translates responses as return values"
   ]
  },
  {
   "cell_type": "markdown",
   "metadata": {
    "slideshow": {
     "slide_type": "slide"
    }
   },
   "source": [
    "### Getting JSON Data\n",
    "\n",
    "We need to select the output format using API:\n",
    "* e.g., http header: accept = application/json\n",
    "\n",
    "\n",
    "View in browser or Postman\n",
    "* good for exploration / debugging\n",
    "\n",
    "Use request .get\n",
    "* this returns a python array or dictionary\n",
    "\n",
    "Get a string and parse\n",
    "* import json\n",
    "* x = json .loads(aJSONString)"
   ]
  },
  {
   "cell_type": "markdown",
   "metadata": {
    "slideshow": {
     "slide_type": "slide"
    }
   },
   "source": [
    "Example using Trasnlink API  \n",
    "\n",
    " ``` Get out of slideshow mode```"
   ]
  },
  {
   "cell_type": "code",
   "execution_count": 21,
   "metadata": {
    "slideshow": {
     "slide_type": "slide"
    }
   },
   "outputs": [],
   "source": [
    "import config as cfg\n",
    "\n",
    "# Get your own API token from developer.translink.ca\n",
    "apikey = cfg.translink['key']"
   ]
  },
  {
   "cell_type": "markdown",
   "metadata": {
    "slideshow": {
     "slide_type": "slide"
    }
   },
   "source": [
    "I don't want to save my api keys in Environment Variables\n",
    "\n",
    "How should you store your credentials in a `config.py` file?\n",
    "\n",
    "`translink = {'key':'abcdefghi'}`\n",
    "\n",
    "And then, add this file to your `.gitignore` file. That way, your credentials will be stored safely."
   ]
  },
  {
   "cell_type": "code",
   "execution_count": 22,
   "metadata": {
    "slideshow": {
     "slide_type": "fragment"
    }
   },
   "outputs": [],
   "source": [
    "import requests\n",
    "\n",
    "x = requests.get('http://api.translink.ca/rttiapi/v1/stops/61935?apikey={}' .format(apikey),headers={'accept': 'application/JSON'}).json()\n",
    "y = requests.get('http://api.translink.ca/rttiapi/v1/stops/61935/estimates?apikey={}' .format(apikey),headers={'accept': 'application/JSON'}).json()\n",
    "z = requests.get('http://api.translink.ca/rttiapi/v1/buses?apikey={}&routeNo=099' .format(apikey), headers={'accept': 'application/JSON'}).json()"
   ]
  },
  {
   "cell_type": "code",
   "execution_count": 24,
   "metadata": {
    "slideshow": {
     "slide_type": "slide"
    }
   },
   "outputs": [
    {
     "data": {
      "text/plain": [
       "[{'RouteNo': '099',\n",
       "  'RouteName': 'COMMERCIAL-BROADWAY/UBC (B-LINE)',\n",
       "  'Direction': 'EAST',\n",
       "  'RouteMap': {'Href': 'https://nb.translink.ca/geodata/099.kmz'},\n",
       "  'Schedules': [{'Pattern': 'E1',\n",
       "    'Destination': \"COMM'L-BDWAY STN\",\n",
       "    'ExpectedLeaveTime': '9:57am',\n",
       "    'ExpectedCountdown': 0,\n",
       "    'ScheduleStatus': '*',\n",
       "    'CancelledTrip': False,\n",
       "    'CancelledStop': False,\n",
       "    'AddedTrip': False,\n",
       "    'AddedStop': False,\n",
       "    'LastUpdate': '08:57:02 am'},\n",
       "   {'Pattern': 'E1',\n",
       "    'Destination': \"COMM'L-BDWAY STN\",\n",
       "    'ExpectedLeaveTime': '10:00am',\n",
       "    'ExpectedCountdown': 3,\n",
       "    'ScheduleStatus': '*',\n",
       "    'CancelledTrip': False,\n",
       "    'CancelledStop': False,\n",
       "    'AddedTrip': False,\n",
       "    'AddedStop': False,\n",
       "    'LastUpdate': '09:00:05 am'},\n",
       "   {'Pattern': 'E1',\n",
       "    'Destination': \"COMM'L-BDWAY STN\",\n",
       "    'ExpectedLeaveTime': '10:04am',\n",
       "    'ExpectedCountdown': 7,\n",
       "    'ScheduleStatus': '*',\n",
       "    'CancelledTrip': False,\n",
       "    'CancelledStop': False,\n",
       "    'AddedTrip': False,\n",
       "    'AddedStop': False,\n",
       "    'LastUpdate': '09:04:05 am'},\n",
       "   {'Pattern': 'E1',\n",
       "    'Destination': \"COMM'L-BDWAY STN\",\n",
       "    'ExpectedLeaveTime': '10:08am',\n",
       "    'ExpectedCountdown': 11,\n",
       "    'ScheduleStatus': '*',\n",
       "    'CancelledTrip': False,\n",
       "    'CancelledStop': False,\n",
       "    'AddedTrip': False,\n",
       "    'AddedStop': False,\n",
       "    'LastUpdate': '09:08:02 am'},\n",
       "   {'Pattern': 'E8FL2',\n",
       "    'Destination': 'TO BOUNDARY B-LINE',\n",
       "    'ExpectedLeaveTime': '10:11am',\n",
       "    'ExpectedCountdown': 14,\n",
       "    'ScheduleStatus': '*',\n",
       "    'CancelledTrip': False,\n",
       "    'CancelledStop': False,\n",
       "    'AddedTrip': False,\n",
       "    'AddedStop': False,\n",
       "    'LastUpdate': '09:11:12 am'},\n",
       "   {'Pattern': 'E1',\n",
       "    'Destination': \"COMM'L-BDWAY STN\",\n",
       "    'ExpectedLeaveTime': '10:14am',\n",
       "    'ExpectedCountdown': 17,\n",
       "    'ScheduleStatus': '*',\n",
       "    'CancelledTrip': False,\n",
       "    'CancelledStop': False,\n",
       "    'AddedTrip': False,\n",
       "    'AddedStop': False,\n",
       "    'LastUpdate': '09:14:24 am'}]}]"
      ]
     },
     "execution_count": 24,
     "metadata": {},
     "output_type": "execute_result"
    }
   ],
   "source": [
    "y"
   ]
  },
  {
   "cell_type": "markdown",
   "metadata": {
    "slideshow": {
     "slide_type": "slide"
    }
   },
   "source": [
    "### The Anatomy Of A Request\n",
    "\n",
    "It’s important to know that a request is made up of four things:\n",
    "\n",
    "1. The endpoint\n",
    "\n",
    "2. The method (verb)\n",
    "\n",
    "3. The headers (parameters)\n",
    "\n",
    "4. The data (or body)"
   ]
  },
  {
   "cell_type": "markdown",
   "metadata": {
    "slideshow": {
     "slide_type": "slide"
    }
   },
   "source": [
    "1. The endpoint (or route) is the url you request for\n",
    "\n",
    "root-endpoint/?\n",
    "\n",
    "https://api.github.com\n",
    "\n",
    "2. The Method is the type of request you send to the server. You can choose from these types below:\n",
    "\n",
    "a. GET - Used to get resource from server\n",
    "\n",
    "b. POST - Used to create new resource on server\n",
    "\n",
    "c. PUT/PATCH - update resource on server\n",
    "\n",
    "d. DELETE - delete a resource on the server"
   ]
  },
  {
   "cell_type": "markdown",
   "metadata": {
    "slideshow": {
     "slide_type": "slide"
    }
   },
   "source": [
    "## FLASK\n",
    "\n",
    "Flask is a micro web framework written in Python. It can create a REST API that allows you to send data, and receive a predictions as a response."
   ]
  },
  {
   "cell_type": "markdown",
   "metadata": {
    "slideshow": {
     "slide_type": "slide"
    }
   },
   "source": [
    "Now that you are going to be a Data Scientist, you cannot always rely on having your models in Jupyter Notebook.\n",
    "\n",
    "Jupyter Notebooks are awesome for EDA. However, when you need an application that has a predictive model, you will need to deploy your model elsewhere.\n",
    "\n",
    "You can try to get the best model possible in a notebook or a script. Once you have decided that you have the best model, you must hand it in a way that the client can run it easily in their infraestructure. \n",
    "\n",
    "For this purpose you need a tool that can fit in their  infrastructure, preferably in a language that you’re familiar with. This is where you can use Flask. Flask is a micro web framework written in Python. It can create a REST API that allows you to send data, and receive a prediction as a response."
   ]
  },
  {
   "cell_type": "markdown",
   "metadata": {
    "slideshow": {
     "slide_type": "slide"
    }
   },
   "source": [
    "## Pros of Flask\n",
    "- Easy to understand development: Beginner friendly.\n",
    "- It is very flexible and easy: Comes with a template engine too!\n",
    "- Testing: Unit testing is possible."
   ]
  },
  {
   "cell_type": "markdown",
   "metadata": {
    "slideshow": {
     "slide_type": "slide"
    }
   },
   "source": [
    "## Cons of Flask\n",
    "- Since it is too easy, it allows to use low-quality code creating a \"bad web application\".\n",
    "- Scalability: It can handle every request one at a time. For multiple requests, it will be slow.\n",
    "- Modules: Using more modules is seen as a third party involvement which could be a major breach in security."
   ]
  },
  {
   "cell_type": "markdown",
   "metadata": {
    "slideshow": {
     "slide_type": "slide"
    }
   },
   "source": [
    "Let's do an example on how to do an API using our DS models."
   ]
  },
  {
   "cell_type": "markdown",
   "metadata": {
    "slideshow": {
     "slide_type": "slide"
    }
   },
   "source": [
    "Flask is not the only end point. \n",
    "\n",
    "Some people prefer using [Streamlit](https://streamlit.io/) and if you have to do a Dashboard, Plotly [Dash](https://plotly.com/dash/)"
   ]
  },
  {
   "cell_type": "code",
   "execution_count": null,
   "metadata": {
    "slideshow": {
     "slide_type": "slide"
    }
   },
   "outputs": [],
   "source": []
  },
  {
   "cell_type": "markdown",
   "metadata": {
    "slideshow": {
     "slide_type": "slide"
    }
   },
   "source": [
    "## What is Tmux\n",
    "\n",
    "tmux’s is a terminal multiplexer. \n",
    "\n",
    "- Within one terminal window you can open multiple windows and split-views (called “panes” in tmux lingo). \n",
    "\n",
    "- Each pane contains its own, independently running terminal instance.\n",
    "\n",
    "- You won't need to open multiple terminal emulator windows."
   ]
  },
  {
   "cell_type": "markdown",
   "metadata": {
    "slideshow": {
     "slide_type": "slide"
    }
   },
   "source": [
    "### Tmux\n",
    "\n",
    "Show Tmux and its interactivity for multiple session handling.\n",
    "\n",
    "You can learn more about it [here](https://www.hamvocke.com/blog/a-quick-and-easy-guide-to-tmux/)\n"
   ]
  },
  {
   "cell_type": "markdown",
   "metadata": {
    "slideshow": {
     "slide_type": "slide"
    }
   },
   "source": [
    "Installing tmux:  \n",
    "`sudo apt-get install tmux` (Ubuntu and derivatives)   \n",
    "`brew install tmux` (Mac)  "
   ]
  },
  {
   "cell_type": "markdown",
   "metadata": {
    "slideshow": {
     "slide_type": "slide"
    }
   },
   "source": [
    "Useful commands in Tmux\n",
    "\n",
    "\n",
    "- Splitting Panes:\n",
    "(Ctrl + b) %   (press ctrl+b together, release, type in %)\n",
    "\n",
    "- Navigating Panes:\n",
    "(Ctrl + b) + arrows\n",
    "\n",
    "- Exiting a pane:\n",
    "Type `exit`"
   ]
  }
 ],
 "metadata": {
  "celltoolbar": "Slideshow",
  "kernelspec": {
   "display_name": "Python 3",
   "language": "python",
   "name": "python3"
  },
  "language_info": {
   "codemirror_mode": {
    "name": "ipython",
    "version": 3
   },
   "file_extension": ".py",
   "mimetype": "text/x-python",
   "name": "python",
   "nbconvert_exporter": "python",
   "pygments_lexer": "ipython3",
   "version": "3.7.4"
  }
 },
 "nbformat": 4,
 "nbformat_minor": 4
}
