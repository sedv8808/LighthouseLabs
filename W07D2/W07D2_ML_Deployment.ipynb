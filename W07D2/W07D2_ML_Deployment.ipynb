{
 "cells": [
  {
   "cell_type": "markdown",
   "metadata": {
    "slideshow": {
     "slide_type": "slide"
    }
   },
   "source": [
    "## Lighthouse Labs\n",
    "### W07D2 Deployment of ML Models\n",
    "Instructor: Socorro Dominguez  \n",
    "June 08, 2021"
   ]
  },
  {
   "cell_type": "markdown",
   "metadata": {
    "slideshow": {
     "slide_type": "slide"
    }
   },
   "source": [
    "**Agenda:**\n",
    "\n",
    "* REST APIs\n",
    "    * What is it?\n",
    "    * Applications\n",
    "   \n",
    "* Intro to Flask\n",
    "    * Flask for API creation\n",
    "    "
   ]
  },
  {
   "cell_type": "markdown",
   "metadata": {
    "slideshow": {
     "slide_type": "slide"
    }
   },
   "source": [
    "## How is Data Science related to the Web?"
   ]
  },
  {
   "cell_type": "markdown",
   "metadata": {
    "slideshow": {
     "slide_type": "fragment"
    }
   },
   "source": [
    "Web Pages are intended for Humans. However, there’s lots of valuable data embedding in web pages:\n",
    "* course listings\n",
    "* bank records\n",
    "* blogs"
   ]
  },
  {
   "cell_type": "markdown",
   "metadata": {
    "slideshow": {
     "slide_type": "slide"
    }
   },
   "source": [
    "### What if we wanted to collect this data for analysis?"
   ]
  },
  {
   "cell_type": "markdown",
   "metadata": {
    "slideshow": {
     "slide_type": "fragment"
    }
   },
   "source": [
    "We would need a program that acts like a web browser but collects web document data rather than displaying it.\n",
    "\n",
    "This is called `web scraping`. Popular methods include Scrapy, a free and open-source web-crawling framework written in Python. "
   ]
  },
  {
   "cell_type": "markdown",
   "metadata": {
    "slideshow": {
     "slide_type": "slide"
    }
   },
   "source": [
    "A Web Scraper...\n",
    "* acts like a web browser (i.e., sends HTTP GET requests to web server)\n",
    "* at the time it allows your to process the data that comes back.\n",
    "\n",
    "Some other useful libraries useful when scraping if you are interested:\n",
    "\n",
    "Beautiful Soup\n",
    "* python library that can parse HTML (Super useful)"
   ]
  },
  {
   "cell_type": "markdown",
   "metadata": {
    "slideshow": {
     "slide_type": "slide"
    }
   },
   "source": [
    "### Disadvantages of Web Scraping\n",
    "\n",
    "- Scraping processes are hard to understand.\n",
    "\n",
    "- Extracted data needs extensive cleaning (This is where we use `Beautiful Soup`). \n",
    "\n",
    "- In certain cases, this might take a long time and a lot of energy to complete (show why)\n",
    "\n",
    "- New data extraction applications a lot of time in the beginning. \n",
    "\n",
    "- Web scrapping services are slower than API calls.\n",
    "\n",
    "- If the developer of a website decides to introduce changes in the code, the scrapping service might stop working."
   ]
  },
  {
   "cell_type": "markdown",
   "metadata": {
    "slideshow": {
     "slide_type": "slide"
    }
   },
   "source": [
    "## What is an API?"
   ]
  },
  {
   "cell_type": "markdown",
   "metadata": {
    "slideshow": {
     "slide_type": "fragment"
    }
   },
   "source": [
    "**A**pplication  \n",
    "**P**rogramming  \n",
    "**I**nterface  \n",
    "  \n",
    "  \n",
    "**RE**presentation  \n",
    "**S**tate  \n",
    "**T**ransfer  \n",
    "Characteristics  "
   ]
  },
  {
   "cell_type": "markdown",
   "metadata": {
    "slideshow": {
     "slide_type": "slide"
    }
   },
   "source": [
    "### Characteristics?\n",
    "\n",
    "Client-server, typically HTTP-based, stateless server\n"
   ]
  },
  {
   "cell_type": "markdown",
   "metadata": {
    "slideshow": {
     "slide_type": "slide"
    }
   },
   "source": [
    "### Furthermore....\n",
    "\n",
    "some web site’s provide direct access to their data. For example: Twitter, Translink, Car2Go, Google Maps, Yahoo\n",
    "\n",
    "* Why would they do this?\n",
    "\n",
    "* Why would some web sites not do this?"
   ]
  },
  {
   "cell_type": "markdown",
   "metadata": {
    "slideshow": {
     "slide_type": "slide"
    }
   },
   "source": [
    "### What representation is DATA found in?"
   ]
  },
  {
   "cell_type": "markdown",
   "metadata": {
    "slideshow": {
     "slide_type": "fragment"
    }
   },
   "source": [
    "**J**ava**S**cript **O**bject **N**otation (json)\n",
    "\n",
    "\n",
    "Textual format for structured data  \n",
    "* [a,b,c] for arrays  \n",
    "* {‘x’: m, ‘y’: n, ‘z’: o} for objects"
   ]
  },
  {
   "cell_type": "markdown",
   "metadata": {
    "slideshow": {
     "slide_type": "slide"
    }
   },
   "source": [
    "JSON\n",
    "* textual description of python (javascript actually) objects\n",
    "* arrays and dictionaries\n",
    "\n",
    "```\n",
    "{\n",
    "'library': [\n",
    "           {'title': 'For Whom the Bell Tolls', 'author': 'Ernest Hemingway'},\n",
    "           {'title': 'Trump: The Art of the Deal', 'author': 'Good Question'}\n",
    "           ]\n",
    "}\n",
    "```"
   ]
  },
  {
   "cell_type": "markdown",
   "metadata": {
    "slideshow": {
     "slide_type": "subslide"
    }
   },
   "source": [
    "### Using a Web API\n",
    "\n",
    "Provider defines:\n",
    "* message format for requests and responses\n",
    "* usually in both XML and JSON\n",
    "* registration and authentication\n",
    "* usually using OAuth (delegated authorization framework for REST/APIs. It enables apps to obtain limited access to a user's data without giving away a user's password.)\n",
    "\n",
    "\n",
    "Language integration\n",
    "* might be provided or you might have to do it yourself\n",
    "* if provided, usually someone other than data source\n",
    "* library API for various languages like python\n",
    "* you write a python program that calls library procedures\n",
    "* library formats messages, sends them to web provider, translates responses as return values"
   ]
  },
  {
   "cell_type": "markdown",
   "metadata": {
    "slideshow": {
     "slide_type": "slide"
    }
   },
   "source": [
    "### Getting JSON Data\n",
    "\n",
    "We need to select the output format using API:\n",
    "* e.g., http header: accept = application/json\n",
    "\n",
    "\n",
    "View in browser or Postman\n",
    "* good for exploration / debugging\n",
    "\n",
    "Use request .get\n",
    "* this returns a python array or dictionary\n",
    "\n",
    "Get a string and parse\n",
    "* import json\n",
    "* x = json .loads(aJSONString)"
   ]
  },
  {
   "cell_type": "markdown",
   "metadata": {
    "slideshow": {
     "slide_type": "slide"
    }
   },
   "source": [
    "Example using Trasnlink API  \n",
    "\n",
    " ``` Get out of slideshow mode```"
   ]
  },
  {
   "cell_type": "code",
   "execution_count": 1,
   "metadata": {
    "slideshow": {
     "slide_type": "slide"
    }
   },
   "outputs": [],
   "source": [
    "import config as cfg\n",
    "\n",
    "# Get your own API token from developer.translink.ca\n",
    "apikey = cfg.translink['key']"
   ]
  },
  {
   "cell_type": "markdown",
   "metadata": {
    "slideshow": {
     "slide_type": "slide"
    }
   },
   "source": [
    "I don't want to save my api keys in Environment Variables\n",
    "\n",
    "How should you store your credentials in a `config.py` file?\n",
    "\n",
    "`translink = {'key':'abcdefghi'}`\n",
    "\n",
    "And then, add this file to your `.gitignore` file. That way, your credentials will be stored safely."
   ]
  },
  {
   "cell_type": "code",
   "execution_count": 2,
   "metadata": {
    "slideshow": {
     "slide_type": "fragment"
    }
   },
   "outputs": [],
   "source": [
    "import requests\n",
    "\n",
    "x = requests.get('http://api.translink.ca/rttiapi/v1/stops/61935?apikey={}' .format(apikey),headers={'accept': 'application/JSON'}).json()\n",
    "y = requests.get('http://api.translink.ca/rttiapi/v1/stops/61935/estimates?apikey={}' .format(apikey),headers={'accept': 'application/JSON'}).json()\n",
    "z = requests.get('http://api.translink.ca/rttiapi/v1/buses?apikey={}&routeNo=099' .format(apikey), headers={'accept': 'application/JSON'}).json()"
   ]
  },
  {
   "cell_type": "code",
   "execution_count": 3,
   "metadata": {
    "slideshow": {
     "slide_type": "slide"
    }
   },
   "outputs": [
    {
     "data": {
      "text/plain": [
       "'099'"
      ]
     },
     "execution_count": 3,
     "metadata": {},
     "output_type": "execute_result"
    }
   ],
   "source": [
    "y[0]['RouteNo']"
   ]
  },
  {
   "cell_type": "markdown",
   "metadata": {
    "slideshow": {
     "slide_type": "slide"
    }
   },
   "source": [
    "### The Anatomy Of A Request\n",
    "\n",
    "It’s important to know that a request is made up of four things:\n",
    "\n",
    "1. The endpoint\n",
    "\n",
    "2. The method\n",
    "\n",
    "3. The headers\n",
    "\n",
    "4. The data (or body)"
   ]
  },
  {
   "cell_type": "markdown",
   "metadata": {
    "slideshow": {
     "slide_type": "slide"
    }
   },
   "source": [
    "1. The endpoint (or route) is the url you request for\n",
    "\n",
    "root-endpoint/?\n",
    "\n",
    "https://api.github.com\n",
    "\n",
    "2. The Method is the type of request you send to the server. You can choose from these types below:\n",
    "\n",
    "a. GET - Used to get resource from server\n",
    "\n",
    "b. POST - Used to create new resource on server\n",
    "\n",
    "c. PUT/PATCH - update resource on server\n",
    "\n",
    "d. DELETE - delete a resource on the server"
   ]
  },
  {
   "cell_type": "markdown",
   "metadata": {
    "slideshow": {
     "slide_type": "slide"
    }
   },
   "source": [
    "## FLASK\n",
    "\n",
    "Flask is a micro web framework written in Python. It can create a REST API that allows you to send data, and receive a predictions as a response."
   ]
  },
  {
   "cell_type": "markdown",
   "metadata": {
    "slideshow": {
     "slide_type": "slide"
    }
   },
   "source": [
    "Now that you are going to be a Data Scientist, you cannot always rely on having your models in Jupyter Notebook.\n",
    "\n",
    "Jupyter Notebooks are awesome for EDA. However, when you need an application that has a predictive model, you will need to deploy your model elsewhere.\n",
    "\n",
    "You can try to get the best model possible in a notebook or a script. Once you have decided that you have the best model, you must hand it in a way that the client can run it easily in their infraestructure. \n",
    "\n",
    "For this purpose you need a tool that can fit in their  infrastructure, preferably in a language that you’re familiar with. This is where you can use Flask. Flask is a micro web framework written in Python. It can create a REST API that allows you to send data, and receive a prediction as a response."
   ]
  },
  {
   "cell_type": "markdown",
   "metadata": {
    "slideshow": {
     "slide_type": "slide"
    }
   },
   "source": [
    "## Pros of Flask\n",
    "- Easy to understand development: Beginner friendly.\n",
    "- It is very flexible and easy: Comes with a template engine too!\n",
    "- Testing: Unit testing is possible."
   ]
  },
  {
   "cell_type": "markdown",
   "metadata": {
    "slideshow": {
     "slide_type": "slide"
    }
   },
   "source": [
    "## Cons of Flask\n",
    "- Since it is too easy, it allows to use low-quality code creating a \"bad web application\".\n",
    "- Scalability: It can handle every request one at a time. For multiple requests, it will be slow.\n",
    "- Modules: Using more modules is seen as a third party involvement which could be a major breach in security."
   ]
  },
  {
   "cell_type": "markdown",
   "metadata": {
    "slideshow": {
     "slide_type": "slide"
    }
   },
   "source": [
    "Let's do an example on how to do an API using our DS models."
   ]
  },
  {
   "cell_type": "markdown",
   "metadata": {
    "slideshow": {
     "slide_type": "slide"
    }
   },
   "source": [
    "Flask is not the only end point. \n",
    "\n",
    "Some people prefer using [Streamlit](https://streamlit.io/) and if you have to do a Dashboard, Plotly [Dash](https://plotly.com/dash/)"
   ]
  },
  {
   "cell_type": "code",
   "execution_count": null,
   "metadata": {
    "slideshow": {
     "slide_type": "slide"
    }
   },
   "outputs": [],
   "source": []
  },
  {
   "cell_type": "markdown",
   "metadata": {
    "slideshow": {
     "slide_type": "slide"
    }
   },
   "source": [
    "## What is Tmux\n",
    "\n",
    "tmux’s is a terminal multiplexer. \n",
    "\n",
    "- Within one terminal window you can open multiple windows and split-views (called “panes” in tmux lingo). \n",
    "\n",
    "- Each pane contains its own, independently running terminal instance.\n",
    "\n",
    "- You won't need to open multiple terminal emulator windows."
   ]
  },
  {
   "cell_type": "markdown",
   "metadata": {
    "slideshow": {
     "slide_type": "slide"
    }
   },
   "source": [
    "### Tmux\n",
    "\n",
    "Show Tmux and its interactivity for multiple session handling.\n",
    "\n",
    "You can learn more about it [here](https://www.hamvocke.com/blog/a-quick-and-easy-guide-to-tmux/)\n"
   ]
  },
  {
   "cell_type": "markdown",
   "metadata": {
    "slideshow": {
     "slide_type": "slide"
    }
   },
   "source": [
    "Installing tmux:  \n",
    "`sudo apt-get install tmux` (Ubuntu and derivatives)   \n",
    "`brew install tmux` (Mac)  "
   ]
  },
  {
   "cell_type": "markdown",
   "metadata": {
    "slideshow": {
     "slide_type": "slide"
    }
   },
   "source": [
    "Useful commands in Tmux\n",
    "\n",
    "\n",
    "- Splitting Panes:\n",
    "(Ctrl + b) %   (press ctrl+b together, release, type in %)\n",
    "\n",
    "- Navigating Panes:\n",
    "(Ctrl + b) + arrows\n",
    "\n",
    "- Exiting a pane:\n",
    "Type `exit`"
   ]
  }
 ],
 "metadata": {
  "celltoolbar": "Slideshow",
  "kernelspec": {
   "display_name": "Python 3",
   "language": "python",
   "name": "python3"
  },
  "language_info": {
   "codemirror_mode": {
    "name": "ipython",
    "version": 3
   },
   "file_extension": ".py",
   "mimetype": "text/x-python",
   "name": "python",
   "nbconvert_exporter": "python",
   "pygments_lexer": "ipython3",
   "version": "3.7.4"
  }
 },
 "nbformat": 4,
 "nbformat_minor": 4
}
